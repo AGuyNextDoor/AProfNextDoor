{
 "cells": [
  {
   "cell_type": "markdown",
   "id": "deluxe-perfume",
   "metadata": {},
   "source": [
    "# Hands on Unsupervised Learning"
   ]
  },
  {
   "cell_type": "markdown",
   "id": "adaptive-female",
   "metadata": {},
   "source": [
    "## Import"
   ]
  },
  {
   "cell_type": "code",
   "execution_count": null,
   "id": "usual-insert",
   "metadata": {},
   "outputs": [],
   "source": [
    "#Data Manipulation Librairies\n",
    "import pandas as pd\n",
    "import numpy as np\n",
    "import matplotlib.pyplot as plt\n"
   ]
  },
  {
   "cell_type": "markdown",
   "id": "surprising-specification",
   "metadata": {},
   "source": [
    "## Loading data"
   ]
  },
  {
   "cell_type": "markdown",
   "id": "unlikely-remains",
   "metadata": {},
   "source": [
    "Les URLS correspondent aux URL d'exercice publique sur GitHub permettant de telecharger directement la data depuis GitHub. \n",
    "\n",
    "Si une erreur arrive, veuillez contacter l'adresse mail en précisant de quel exercice il sagit : contact.aguynextdoor@gmail.com "
   ]
  },
  {
   "cell_type": "code",
   "execution_count": null,
   "id": "commercial-posting",
   "metadata": {},
   "outputs": [],
   "source": [
    "df_iris = pd.read_csv(\n",
    "    \"./iris_data_unsupervised.csv\",\n",
    "    sep=',')"
   ]
  },
  {
   "cell_type": "markdown",
   "id": "smart-brunswick",
   "metadata": {},
   "source": [
    "## Data Exploration"
   ]
  },
  {
   "cell_type": "markdown",
   "id": "developmental-israel",
   "metadata": {},
   "source": [
    "Faire une exploration rapide de votre donnée.\n",
    "Le dataset est composée de 4 variables, décrivant des fleurs observées.\n",
    "\n",
    "Malheuresement.. Nous ne connaissons pas la race de ces fleures! Comment les regrouper?\n",
    "\n",
    "Le but de l'exercice est d'arriver a classer les fleures grace a des méthodes de clustering non-supervisé."
   ]
  },
  {
   "cell_type": "code",
   "execution_count": null,
   "id": "general-soccer",
   "metadata": {},
   "outputs": [],
   "source": []
  },
  {
   "cell_type": "markdown",
   "id": "persistent-tunisia",
   "metadata": {},
   "source": [
    "## PCA"
   ]
  },
  {
   "cell_type": "markdown",
   "id": "unavailable-rogers",
   "metadata": {},
   "source": [
    "Utilisez la méthode de réduction de dimension [PCA](https://scikit-learn.org/stable/modules/generated/sklearn.decomposition.PCA.html), pour pouvoir visualiser les données sur un graph en deux dimensions.\n",
    "\n",
    "Il est conseillé, de transformer votre donnée a travers un [StandardScaler](https://scikit-learn.org/stable/modules/generated/sklearn.preprocessing.StandardScaler.html) avant le PCA."
   ]
  },
  {
   "cell_type": "code",
   "execution_count": null,
   "id": "valued-census",
   "metadata": {},
   "outputs": [],
   "source": []
  },
  {
   "cell_type": "markdown",
   "id": "certified-causing",
   "metadata": {},
   "source": [
    "## Unsupervised Models"
   ]
  },
  {
   "cell_type": "markdown",
   "id": "small-spotlight",
   "metadata": {},
   "source": [
    "### K-Means"
   ]
  },
  {
   "cell_type": "markdown",
   "id": "desirable-withdrawal",
   "metadata": {},
   "source": [
    "Utilisez le modèle de clustering [kmeans](https://scikit-learn.org/stable/modules/generated/sklearn.cluster.KMeans.html?highlight=kmeans#sklearn.cluster.KMeans) pour regrouper votre donnée. \n",
    "\n",
    "En utilisant le score de silhouette de scikit-learn, choissisez le nombre de cluster le plus approprié.\n",
    "\n",
    "Il faut reussir a générer le graphe 2 dimension du PCA, en rajoutant une couleur pour chaque cluster afin de visualiser votre clustering."
   ]
  },
  {
   "cell_type": "markdown",
   "id": "personalized-given",
   "metadata": {},
   "source": [
    "Voici un exemple qui permet d'associer une couleur par label sur un graph : https://stackoverflow.com/questions/12487060/matplotlib-color-according-to-class-labels"
   ]
  },
  {
   "cell_type": "code",
   "execution_count": null,
   "id": "clinical-strengthening",
   "metadata": {},
   "outputs": [],
   "source": []
  },
  {
   "cell_type": "markdown",
   "id": "floral-split",
   "metadata": {},
   "source": [
    "### HDBSCAN"
   ]
  },
  {
   "cell_type": "markdown",
   "id": "numerous-dress",
   "metadata": {},
   "source": [
    "Utilisez le modèle de clustering [hdbscan](https://hdbscan.readthedocs.io/en/latest/basic_hdbscan.html#the-simple-case) pour regrouper votre donnée.\n",
    "                                           \n",
    "Il n'y a pas besoin particulierement d'utiliser de parametres pour HDBSCAN pour cet exemple la, mais n'hesitez pas a lire la documentation!\n",
    "\n",
    "Il faut reussir a générer le graphe 2 dimension du PCA, en rajoutant une couleur pour chaque cluster trouvé par hdbscan, afin de visualiser votre clustering."
   ]
  },
  {
   "cell_type": "code",
   "execution_count": null,
   "id": "instrumental-pasta",
   "metadata": {},
   "outputs": [],
   "source": [
    "!pip install hdbscan\n",
    "import hdbscan"
   ]
  },
  {
   "cell_type": "code",
   "execution_count": null,
   "id": "interpreted-istanbul",
   "metadata": {},
   "outputs": [],
   "source": []
  },
  {
   "cell_type": "markdown",
   "id": "unable-identity",
   "metadata": {},
   "source": [
    "BONUS : Essayez de génerer l'arbre de décision de votre algorithme HDBSCAN grâce a la méthode `condensed_tree_`!"
   ]
  },
  {
   "cell_type": "code",
   "execution_count": null,
   "id": "dental-netherlands",
   "metadata": {},
   "outputs": [],
   "source": []
  },
  {
   "cell_type": "markdown",
   "id": "distinguished-florida",
   "metadata": {},
   "source": [
    "## Comparing With Real Labels"
   ]
  },
  {
   "cell_type": "markdown",
   "id": "eleven-arrest",
   "metadata": {},
   "source": [
    "Le lien plus bas vous donne accès aux labels de votre donnée non-supervisé.\n",
    "\n",
    "Vous pouvez maintenant utiliser les vrai classes sur votre graphe de PCA et les comparer a vos clusters de KMeans et de HDSCAN !\n",
    "\n",
    "Cela vous permettra de comparer la performance de vos algorithmes de clustering non-supervisé"
   ]
  },
  {
   "cell_type": "code",
   "execution_count": null,
   "id": "complete-crisis",
   "metadata": {},
   "outputs": [],
   "source": [
    "df_iris_labels = pd.read_csv(\"./iris_labels_unsupervised.csv\")"
   ]
  },
  {
   "cell_type": "markdown",
   "id": "animal-registration",
   "metadata": {},
   "source": [
    "### Comparing K-Means"
   ]
  },
  {
   "cell_type": "code",
   "execution_count": null,
   "id": "eligible-makeup",
   "metadata": {},
   "outputs": [],
   "source": []
  },
  {
   "cell_type": "markdown",
   "id": "returning-personality",
   "metadata": {},
   "source": [
    "### Comparing HDBSCAN"
   ]
  },
  {
   "cell_type": "code",
   "execution_count": null,
   "id": "sustained-milwaukee",
   "metadata": {},
   "outputs": [],
   "source": []
  }
 ],
 "metadata": {
  "kernelspec": {
   "display_name": "Python 3",
   "language": "python",
   "name": "python3"
  },
  "language_info": {
   "codemirror_mode": {
    "name": "ipython",
    "version": 3
   },
   "file_extension": ".py",
   "mimetype": "text/x-python",
   "name": "python",
   "nbconvert_exporter": "python",
   "pygments_lexer": "ipython3",
   "version": "3.9.6"
  }
 },
 "nbformat": 4,
 "nbformat_minor": 5
}
