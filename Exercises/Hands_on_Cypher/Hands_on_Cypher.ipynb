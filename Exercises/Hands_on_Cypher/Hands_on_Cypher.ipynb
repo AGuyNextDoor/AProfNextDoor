{
  "nbformat": 4,
  "nbformat_minor": 2,
  "metadata": {
    "colab": {
      "name": "CypherSolution.ipynb",
      "provenance": [],
      "collapsed_sections": []
    },
    "kernelspec": {
      "name": "python3",
      "display_name": "Python 3"
    },
    "language_info": {
      "name": "python"
    }
  },
  "cells": [
    {
      "cell_type": "code",
      "execution_count": 1,
      "source": [
        "# Les imports pour l'exercice\n",
        "import pandas as pd\n",
        "import numpy as np\n",
        "import matplotlib.pyplot as plt\n",
        "\n",
        "import string\n",
        "import random\n",
        "from collections import deque"
      ],
      "outputs": [],
      "metadata": {
        "id": "Geuh5RQuFdq7"
      }
    },
    {
      "cell_type": "markdown",
      "source": [
        "## Code de César"
      ],
      "metadata": {
        "id": "qeZNWp32hrtp"
      }
    },
    {
      "cell_type": "markdown",
      "source": [
        "Le code suivant ontient deux fonctions principales : encryptMessage et decryptMessage\n",
        "\n",
        "Ces fonctions permet d'encoder et de decoder un string donnée. \n",
        "\n",
        "L'encryption se fait de facon classique par decalage d'alphabet. La clé donnée est le nombre de decalage."
      ],
      "metadata": {
        "id": "mHvTFGfmHy5f"
      }
    },
    {
      "cell_type": "code",
      "execution_count": 2,
      "source": [
        "alphabet_string = string.printable\n",
        "\n",
        "alphabetListOrdered = list(alphabet_string)\n",
        "\n",
        "numberListOrdered = list(map(ord, alphabetListOrdered))\n",
        "\n",
        "def convertAlphabets(messageCharNumList, numList, numListToConvert, encrypt = True) :\n",
        "    index = 0\n",
        "    newList = []\n",
        "    for val in messageCharNumList:\n",
        "      indexOfLetter = numListToConvert.index(val)\n",
        "      newList.append(numList[indexOfLetter])\n",
        "\n",
        "      index += 1\n",
        "    if encrypt :\n",
        "      return ' '.join(map(chr,newList))\n",
        "    else : \n",
        "      return ''.join(map(chr,newList))\n",
        "\n",
        "def shiftAlphabet(listToShift, keyShift):\n",
        "  keyShift = keyShift % len(listToShift)\n",
        "  return listToShift[keyShift:] + listToShift[:keyShift]"
      ],
      "outputs": [],
      "metadata": {
        "id": "FDLIVI-Lhorx"
      }
    },
    {
      "cell_type": "code",
      "execution_count": null,
      "source": [
        "def encryptMessage(m, shiftKey):\n",
        "\n",
        "  alphabet_string = string.printable\n",
        "\n",
        "  alphabetListOrdered = list(alphabet_string)\n",
        "\n",
        "  numberListOrdered = list(map(ord, alphabetListOrdered))\n",
        "\n",
        "  alphabetListShuffled = shiftAlphabet(list(alphabetListOrdered), shiftKey)\n",
        "\n",
        "  numberListShuffled = list(map(ord, alphabetListShuffled))\n",
        "  print(numberListShuffled)\n",
        "\n",
        "  return convertAlphabets(list(map(ord, list(m))), numberListShuffled, numberListOrdered)"
      ],
      "outputs": [],
      "metadata": {
        "id": "3G8B3tKFIyBh"
      }
    },
    {
      "cell_type": "code",
      "execution_count": 3,
      "source": [
        "def decryptMessage(m, shiftKey):\n",
        "  m = m.replace(' ', '')\n",
        "  alphabet_string = string.printable\n",
        "\n",
        "  alphabetListOrdered = list(alphabet_string)\n",
        "\n",
        "  numberListOrdered = list(map(ord, alphabetListOrdered))\n",
        "\n",
        "  alphabetListShuffled = list(alphabetListOrdered)\n",
        "\n",
        "  alphabetListShuffled = shiftAlphabet(list(alphabetListOrdered), shiftKey)\n",
        "\n",
        "  numberListShuffled = list(map(ord, alphabetListShuffled))\n",
        "\n",
        "  return convertAlphabets(list(map(ord, list(m))), numberListOrdered, numberListShuffled, False)\n"
      ],
      "outputs": [],
      "metadata": {
        "id": "IDyG-UPziAIB"
      }
    },
    {
      "cell_type": "markdown",
      "source": [
        "En dessous est un exemple d'encryption et de decryption. "
      ],
      "metadata": {
        "id": "zPoJphEFJ2eM"
      }
    },
    {
      "cell_type": "code",
      "execution_count": 4,
      "source": [
        "m = \"Vous savez, moi je ne crois pas qu'il y ait de bonne ou de mauvaise situation. Moi, si je devais resumer ma vie aujourd'hui avec vous, je dirais que c'est d'abord des rencontres. Des gens qui m'ont tendu la main, peut-etre a un moment ou je ne pouvais pas, ou j'etais seul chez moi\"\n",
        "m"
      ],
      "outputs": [
        {
          "output_type": "execute_result",
          "data": {
            "text/plain": [
              "\"Vous savez, moi je ne crois pas qu'il y ait de bonne ou de mauvaise situation. Moi, si je devais resumer ma vie aujourd'hui avec vous, je dirais que c'est d'abord des rencontres. Des gens qui m'ont tendu la main, peut-etre a un moment ou je ne pouvais pas, ou j'etais seul chez moi\""
            ],
            "application/vnd.google.colaboratory.intrinsic+json": {
              "type": "string"
            }
          },
          "metadata": {},
          "execution_count": 4
        }
      ],
      "metadata": {
        "colab": {
          "base_uri": "https://localhost:8080/",
          "height": 52
        },
        "id": "12rvGBHQvj0L",
        "outputId": "ac5b4df9-de7a-4733-d13c-ef282724d8f6"
      }
    },
    {
      "cell_type": "code",
      "execution_count": 5,
      "source": [
        "e = encryptMessage(m, 4501)\n",
        "e"
      ],
      "outputs": [
        {
          "output_type": "stream",
          "name": "stdout",
          "text": [
            "[49, 50, 51, 52, 53, 54, 55, 56, 57, 97, 98, 99, 100, 101, 102, 103, 104, 105, 106, 107, 108, 109, 110, 111, 112, 113, 114, 115, 116, 117, 118, 119, 120, 121, 122, 65, 66, 67, 68, 69, 70, 71, 72, 73, 74, 75, 76, 77, 78, 79, 80, 81, 82, 83, 84, 85, 86, 87, 88, 89, 90, 33, 34, 35, 36, 37, 38, 39, 40, 41, 42, 43, 44, 45, 46, 47, 58, 59, 60, 61, 62, 63, 64, 91, 92, 93, 94, 95, 96, 123, 124, 125, 126, 32, 9, 10, 13, 11, 12, 48]\n"
          ]
        },
        {
          "output_type": "execute_result",
          "data": {
            "text/plain": [
              "'W p v t \\t t b w f A - \\t n p j \\t k f \\t o f \\t d s p j t \\t q b t \\t r v ( j m \\t z \\t b j u \\t e f \\t c p o o f \\t p v \\t e f \\t n b v w b j t f \\t t j u v b u j p o / \\t N p j - \\t t j \\t k f \\t e f w b j t \\t s f t v n f s \\t n b \\t w j f \\t b v k p v s e ( i v j \\t b w f d \\t w p v t - \\t k f \\t e j s b j t \\t r v f \\t d ( f t u \\t e ( b c p s e \\t e f t \\t s f o d p o u s f t / \\t E f t \\t h f o t \\t r v j \\t n ( p o u \\t u f o e v \\t m b \\t n b j o - \\t q f v u . f u s f \\t b \\t v o \\t n p n f o u \\t p v \\t k f \\t o f \\t q p v w b j t \\t q b t - \\t p v \\t k ( f u b j t \\t t f v m \\t d i f A \\t n p j'"
            ],
            "application/vnd.google.colaboratory.intrinsic+json": {
              "type": "string"
            }
          },
          "metadata": {},
          "execution_count": 5
        }
      ],
      "metadata": {
        "colab": {
          "base_uri": "https://localhost:8080/",
          "height": 122
        },
        "id": "LgsfgSYPvjx2",
        "outputId": "3c370040-4572-429d-cd2f-76bbc8e353ed"
      }
    },
    {
      "cell_type": "code",
      "execution_count": 6,
      "source": [
        "d = decryptMessage(e, 4501)\n",
        "d"
      ],
      "outputs": [
        {
          "output_type": "execute_result",
          "data": {
            "text/plain": [
              "\"Vous savez, moi je ne crois pas qu'il y ait de bonne ou de mauvaise situation. Moi, si je devais resumer ma vie aujourd'hui avec vous, je dirais que c'est d'abord des rencontres. Des gens qui m'ont tendu la main, peut-etre a un moment ou je ne pouvais pas, ou j'etais seul chez moi\""
            ],
            "application/vnd.google.colaboratory.intrinsic+json": {
              "type": "string"
            }
          },
          "metadata": {},
          "execution_count": 6
        }
      ],
      "metadata": {
        "colab": {
          "base_uri": "https://localhost:8080/",
          "height": 52
        },
        "id": "uTCWWVi4vjl3",
        "outputId": "b6ae229b-3f5e-4942-a2e4-994d7bebfead"
      }
    },
    {
      "cell_type": "markdown",
      "source": [
        "## Cracking Cypher Code"
      ],
      "metadata": {}
    },
    {
      "cell_type": "code",
      "execution_count": null,
      "source": [
        "cypher = \"Z C D M P C i W M S i B G Q A S Q Q i R F C i P C Q M J S R G M L \\r i J C R i K C i N J y A C i z C D M P C i W M S i M L C i M P i R U M i R F G L E Q \\r i ' i U y L R i W M S i R M i S L B C P Q R y L B i R U M i R F G L E Q i T C P W i A J C y P J W i y L B i R M i A M L Q G B C P i R F C K i D P M K i R F C i Q y K C i N M G L R i M D i T G C U i D P M K i U F G A F i ' i y K i N J y A G L E i R F C K i z C D M P C i W M S \\x0c i ' i y Q I i W M S i R M i A M L Q G B C P i G R i D P M K i K W i N M G L R i M D i T G C U \\r i z C A y S Q C i G D i W M S i y N N P M T C i M D i G R \\r i W M S i U G J J i z C i C L H M G L C B i R M i A y P P W i M S R i y J J i ' i Q y W \\x0c i ' R i U G J J i z C i y i E P C y R i P C Q N M L Q G z G J G R W \\x0c i < F C P C i y P C i N C M N J C i U F M i y Q I i K C i U F C R F C P i ' i y K i R F C i Q y K C i K y L i R F y R i ' i U y Q i G L i p x q o \\r i M P i U F C R F C P i R F C P C i F y Q i z C C L i y L W i A F y L E C i G L i K C \\x0c i [ M S i y P C i P G E F R i G L i y Q I G L E i R F y R i O S C Q R G M L \\x0c i * C R i K C \\r i F M U C T C P \\r i F y Q R C L i R M i y Q Q S P C i R F y R i ' i y K i R F C i Q y K C i % y L B F G i y Q i ' i U y Q i G L i p x q o \\x0c i ' i F y T C i L M R i A F y L E C B i G L i y L W i D S L B y K C L R y J i P C Q N C A R \\x0c i ' i y R R y A F i R F C i Q y K C i G K N M P R y L A C i R M i L M L T G M J C L A C i R F y R i ' i B G B i R F C L \\x0c i ' D i y R i y J J \\r i K W i C K N F y Q G Q i M L i G R i F y Q i E P M U L i Q R P M L E C P \\x0c i < F C P C i G Q i L M i P C y J i A M L R P y B G A R G M L i z C R U C C L i R F C i N P C Q C L R i P C Q M J S R G M L i y L B i K W i N P C T G M S Q i U P G R G L E Q i y L B i S R R C P y L A C Q \\x0c i - A A y Q G M L Q i J G I C i R F C i N P C Q C L R i B M i L M R i M A A S P i G L i C T C P W z M B W } Q i y L B i z S R i P y P C J W i G L i y L W z M B W } Q i J G D C \\x0c i ' i U y L R i W M S i R M i I L M U i y L B i D C C J i R F y R i R F C P C i G Q i L M R F G L E i z S R i N S P C Q R i Y F G K Q y i G L i y J J i R F y R i ' i y K i Q y W G L E i y L B i B M G L E i R M B y W \\x0c i < F C i B P y D R i P C Q M J S R G M L i M D i R F C i ? M P I G L E i ! M K K G R R C C i G Q i z y Q C B i M L i Y F G K Q y \\r i R F C i A M L R C K N J y R C B i Q R P S E E J C i Q G K G J y P J W i F y Q i G R Q i P M M R Q i G L i Y F G K Q y \\x0c i ' D \\r i R F C P C D M P C \\r i R F C P C i G Q i y L W i y K M L E i W M S i U F M i F y Q i J M Q R i D y G R F i G L i Y F G K Q y i M P i G Q i U C y P G C B i M D i G R \\r i J C R i F G K i L M R i T M R C i D M P i R F G Q i P C Q M J S R G M L \\x0c`\"\n"
      ],
      "outputs": [],
      "metadata": {}
    },
    {
      "cell_type": "code",
      "execution_count": null,
      "source": [
        "cypherList = list(cypher)[0::2]\n"
      ],
      "outputs": [],
      "metadata": {}
    },
    {
      "cell_type": "code",
      "execution_count": null,
      "source": [
        "def count_letters(cypherCharList):\n",
        "  cypher_count_df = pd.DataFrame(\n",
        "      np.array([0]*100).reshape(1, 100), columns=alphabetListOrdered)\n",
        "  #cypher_count_df = cypher_count_df.fill(0)\n",
        "\n",
        "  for val in cypherCharList:\n",
        "    cypher_count_df[val] += 1\n",
        "\n",
        "  return cypher_count_df\n"
      ],
      "outputs": [],
      "metadata": {}
    },
    {
      "cell_type": "code",
      "execution_count": null,
      "source": [
        "cypher_count_df = count_letters(cypherList)\n",
        "cypher_count_df\n"
      ],
      "outputs": [],
      "metadata": {}
    },
    {
      "cell_type": "code",
      "execution_count": null,
      "source": [
        "cypher_count_df.values[0]\n"
      ],
      "outputs": [],
      "metadata": {}
    },
    {
      "cell_type": "code",
      "execution_count": null,
      "source": [
        "def plot(letter_count, alphabet_list):\n",
        "  plt.plot(alphabet_list, letter_count)\n",
        "\n",
        "\n",
        "plot(cypher_count_df.values[0], alphabetListOrdered)\n"
      ],
      "outputs": [],
      "metadata": {}
    },
    {
      "cell_type": "code",
      "execution_count": null,
      "source": [
        "englishText = \"I am the First Accused.I hold a Bachelor's Degree in Arts and practised as an attorney in Johannesburg for a number of years in partnership with Oliver Tambo. I am a convicted prisoner serving five years for leaving the country without a permit and for inciting people to go on strike at the end of May 1961. At the outset, I want to say that the suggestion made by the State in its opening that the struggle in South Africa is under the influence of foreigners or communists is wholly incorrect. I have done whatever I did, both as an individual and as a leader of my people, because of my experience in South Africa and my own proudly felt African background, and not because of what any outsider might have said. In my youth in the Transkei I listened to the elders of my tribe telling stories of the old days. Amongst the tales they related to me were those of wars fought by our ancestors in defence of the fatherland. The names of Dingane and Bambata, Hintsa and Makana, Squngthi and Dalasile, Moshoeshoe and Sekhukhuni, were praised as the glory of the entire African nation. I hoped then that life might offer me the opportunity to serve my people and make my own humble contribution to their freedom struggle. This is what has motivated me in all that I have done in relation to the charges made against me in this case. Having said this, I must deal immediately and at some length with the question of violence. Some of the things so far told to the Court are true and some are untrue. I do not, however, deny that I planned sabotage. I did not plan it in a spirit of recklessness, nor because I have any love of violence. I planned it as a result of a calm and sober assessment of the political situation that had arisen after many years of tyranny, exploitation, and oppression of my people by the Whites.\""
      ],
      "outputs": [],
      "metadata": {}
    },
    {
      "cell_type": "code",
      "execution_count": null,
      "source": [
        "shiftVal = 24\n",
        "\n",
        "plt.figure(figsize=(12, 8), dpi=80)\n",
        "\n",
        "plt.plot(alphabetListOrdered, list(count_letters(list(englishText)).values[0]))\n",
        "plt.plot(alphabetListOrdered, shiftAlphabet(\n",
        "    list(cypher_count_df.values[0]), shiftVal))\n",
        "plt.show()\n"
      ],
      "outputs": [],
      "metadata": {}
    },
    {
      "cell_type": "markdown",
      "source": [
        "## Code de César : Aléatoire"
      ],
      "metadata": {
        "id": "isSRRSuqiBp4"
      }
    },
    {
      "cell_type": "code",
      "execution_count": 7,
      "source": [
        "def convertAlphabetsRand(messageCharNumList, numList, numListToConvert, encrypt = True) :\n",
        "    index = 0\n",
        "    newList = []\n",
        "    for val in messageCharNumList:\n",
        "      indexOfLetter = numListToConvert.index(val)\n",
        "      newList.append(numList[indexOfLetter])\n",
        "\n",
        "      index += 1\n",
        "    if encrypt :\n",
        "      return ' '.join(map(chr,newList))\n",
        "    else : \n",
        "      return ''.join(map(chr,newList))\n",
        "\n",
        "def encryptMessageRand(m, seedKey):\n",
        "\n",
        "  alphabet_string = string.printable\n",
        "\n",
        "  alphabetListOrdered = list(alphabet_string)\n",
        "\n",
        "  numberListOrdered = list(map(ord, alphabetListOrdered))\n",
        "\n",
        "  alphabetListShuffled = list(alphabetListOrdered)\n",
        "\n",
        "  def seed():\n",
        "    return seedKey\n",
        "\n",
        "  random.shuffle(alphabetListShuffled, seed)\n",
        "\n",
        "  numberListShuffled = list(map(ord, alphabetListShuffled))\n",
        "\n",
        "  return convertAlphabetsRand(list(map(ord, list(m))), numberListShuffled, numberListOrdered)\n"
      ],
      "outputs": [],
      "metadata": {
        "id": "89N2yp5BF6PH"
      }
    },
    {
      "cell_type": "code",
      "execution_count": 8,
      "source": [
        "def decryptMessageRand(m, seedKey):\n",
        "  m = m.replace(' ', '')\n",
        "  alphabet_string = string.printable\n",
        "\n",
        "  alphabetListOrdered = list(alphabet_string)\n",
        "\n",
        "  numberListOrdered = list(map(ord, alphabetListOrdered))\n",
        "\n",
        "  alphabetListShuffled = list(alphabetListOrdered)\n",
        "\n",
        "  def seed():\n",
        "    return seedKey\n",
        "\n",
        "  random.shuffle(alphabetListShuffled, seed)\n",
        "\n",
        "  numberListShuffled = list(map(ord, alphabetListShuffled))\n",
        "\n",
        "  return convertAlphabets(list(map(ord, list(m))), numberListOrdered, numberListShuffled, False)\n",
        "\n",
        "\n"
      ],
      "outputs": [],
      "metadata": {
        "id": "Pn2Uz6HbH4J4"
      }
    },
    {
      "cell_type": "code",
      "execution_count": 9,
      "source": [
        "m = \"Vous savez, moi je ne crois pas qu'il y ait de bonne ou de mauvaise situation. Moi, si je devais resumer ma vie aujourd'hui avec vous, je dirais que c'est d'abord des rencontres. Des gens qui m'ont tendu la main, peut-etre a un moment ou je ne pouvais pas, ou j'etais seul chez moi\"\n",
        "m"
      ],
      "outputs": [
        {
          "output_type": "execute_result",
          "data": {
            "text/plain": [
              "\"Vous savez, moi je ne crois pas qu'il y ait de bonne ou de mauvaise situation. Moi, si je devais resumer ma vie aujourd'hui avec vous, je dirais que c'est d'abord des rencontres. Des gens qui m'ont tendu la main, peut-etre a un moment ou je ne pouvais pas, ou j'etais seul chez moi\""
            ],
            "application/vnd.google.colaboratory.intrinsic+json": {
              "type": "string"
            }
          },
          "metadata": {},
          "execution_count": 9
        }
      ],
      "metadata": {
        "colab": {
          "base_uri": "https://localhost:8080/",
          "height": 52
        },
        "id": "zsNbshfZSd55",
        "outputId": "8106e5ae-cd5a-44cd-e47b-8e6f26e63ceb"
      }
    },
    {
      "cell_type": "code",
      "execution_count": 10,
      "source": [
        "e = encryptMessageRand(m, 0.42)\n",
        "e"
      ],
      "outputs": [
        {
          "output_type": "execute_result",
          "data": {
            "text/plain": [
              "'W X , ( D ( 4 / @ \\\\ - D 9 X 7 D L @ D V @ D * b X 7 ( D a 4 ( D # , s 7 Q D e D 4 7 c D 5 @ D % X V V @ D X , D 5 @ D 9 4 , / 4 7 ( @ D ( 7 c , 4 c 7 X V v D k X 7 - D ( 7 D L @ D 5 @ / 4 7 ( D b @ ( , 9 @ b D 9 4 D / 7 @ D 4 , L X , b 5 s \\x0c , 7 D 4 / @ * D / X , ( - D L @ D 5 7 b 4 7 ( D # , @ D * s @ ( c D 5 s 4 % X b 5 D 5 @ ( D b @ V * X V c b @ ( v D g @ ( D \\t @ V ( D # , 7 D 9 s X V c D c @ V 5 , D Q 4 D 9 4 7 V - D a @ , c . @ c b @ D 4 D , V D 9 X 9 @ V c D X , D L @ D V @ D a X , / 4 7 ( D a 4 ( - D X , D L s @ c 4 7 ( D ( @ , Q D * \\x0c @ \\\\ D 9 X 7'"
            ],
            "application/vnd.google.colaboratory.intrinsic+json": {
              "type": "string"
            }
          },
          "metadata": {},
          "execution_count": 10
        }
      ],
      "metadata": {
        "colab": {
          "base_uri": "https://localhost:8080/",
          "height": 86
        },
        "id": "M-I2sTIHSQtg",
        "outputId": "76c2b562-5d2a-4c2e-ed8d-fe4b581c80f6"
      }
    },
    {
      "cell_type": "code",
      "execution_count": 11,
      "source": [
        "d = decryptMessageRand(e, 0.42)\n",
        "d"
      ],
      "outputs": [
        {
          "output_type": "execute_result",
          "data": {
            "text/plain": [
              "\"Vous savez, moi je ne crois pas qu'il y ait de bonne ou de mauvaise situation. Moi, si je devais resumer ma vie aujourd'hui avec vous, je dirais que c'est d'abord des rencontres. Des gens qui m'ont tendu la main, peut-etre a un moment ou je ne pouvais pas, ou j'etais seul chez moi\""
            ],
            "application/vnd.google.colaboratory.intrinsic+json": {
              "type": "string"
            }
          },
          "metadata": {},
          "execution_count": 11
        }
      ],
      "metadata": {
        "colab": {
          "base_uri": "https://localhost:8080/",
          "height": 52
        },
        "id": "DBw5A8__SWCg",
        "outputId": "8a94d5e9-7a9d-4717-c812-c7f4253c7723"
      }
    }
  ]
}