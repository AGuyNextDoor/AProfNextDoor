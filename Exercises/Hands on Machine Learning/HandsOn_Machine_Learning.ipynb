{
 "cells": [
  {
   "cell_type": "markdown",
   "metadata": {
    "id": "p_B4K3nmF8xy"
   },
   "source": [
    "# Hands On Machine Learning : Regression et predire le prix d'une maison"
   ]
  },
  {
   "cell_type": "markdown",
   "metadata": {},
   "source": [
    "## Import"
   ]
  },
  {
   "cell_type": "code",
   "execution_count": null,
   "metadata": {},
   "outputs": [],
   "source": [
    "import pandas as pd"
   ]
  },
  {
   "cell_type": "code",
   "execution_count": 4,
   "metadata": {
    "executionInfo": {
     "elapsed": 4,
     "status": "ok",
     "timestamp": 1622997260472,
     "user": {
      "displayName": "Turing Judges",
      "photoUrl": "",
      "userId": "01863629562320108657"
     },
     "user_tz": -120
    },
    "id": "-vhnIHj9BLrC"
   },
   "outputs": [],
   "source": [
    "# Les URLS correspondent aux URL d'exercice publique sur GitHub permettant de telecharger directemetn la data depuis GitHub. Si une erreur arrive veuillez contacter l'adresse mail plus bas.\n",
    "\n",
    "# contact.aguynextdoor@gmail.com \n",
    "\n",
    "df_dataset = pd.read_csv('https://raw.githubusercontent.com/AGuyNextDoor/AProfNextDoor/main/Exercises/Hands%20on%20Machine%20Learning/house-prices-data/dataset.csv')\n",
    "df_to_predict_and_submit = pd.read_csv(\"https://raw.githubusercontent.com/AGuyNextDoor/AProfNextDoor/main/Exercises/Hands%20on%20Machine%20Learning/house-prices-data/data_to_predict_and_submit.csv\", index_col=\"Id\")\n",
    "\n"
   ]
  },
  {
   "cell_type": "code",
   "execution_count": null,
   "metadata": {},
   "outputs": [],
   "source": [
    "df_dataset"
   ]
  },
  {
   "cell_type": "markdown",
   "metadata": {
    "id": "5awIemE3GBBU"
   },
   "source": [
    "## DataFrame Creation and Analysis"
   ]
  },
  {
   "cell_type": "markdown",
   "metadata": {
    "id": "QN01BWxMKMyL"
   },
   "source": [
    "## Data Preprocessing"
   ]
  },
  {
   "cell_type": "markdown",
   "metadata": {},
   "source": [
    "## MODELS"
   ]
  },
  {
   "cell_type": "markdown",
   "metadata": {
    "id": "ZbNqgFpwI6SR"
   },
   "source": [
    "### Model : Linear Regression"
   ]
  },
  {
   "cell_type": "markdown",
   "metadata": {},
   "source": [
    "Implement your linear regression model from the `sklearn` library"
   ]
  },
  {
   "cell_type": "markdown",
   "metadata": {},
   "source": [
    "### Model : Lasso"
   ]
  },
  {
   "cell_type": "markdown",
   "metadata": {},
   "source": [
    "Implement your Lasso regression model from the `sklearn` library"
   ]
  },
  {
   "cell_type": "markdown",
   "metadata": {},
   "source": [
    "### Model : Elastic Net"
   ]
  },
  {
   "cell_type": "markdown",
   "metadata": {},
   "source": [
    "Implement your elastic net regression model from the `sklearn` library"
   ]
  },
  {
   "cell_type": "markdown",
   "metadata": {},
   "source": [
    "## Result Analysis"
   ]
  },
  {
   "cell_type": "markdown",
   "metadata": {},
   "source": [
    "## Predict"
   ]
  },
  {
   "cell_type": "markdown",
   "metadata": {},
   "source": [
    "\n",
    "With you best performing model, predict and export (in csv format) the values in `data_to_predict_and_submit.csv` so you can send it to validate your exercise. The new file should be named `submit.csv`."
   ]
  },
  {
   "cell_type": "code",
   "execution_count": null,
   "metadata": {},
   "outputs": [],
   "source": []
  }
 ],
 "metadata": {
  "colab": {
   "authorship_tag": "ABX9TyPL8qg3x+e0d8qj7iREFcVl",
   "collapsed_sections": [],
   "name": "Predire le prix d_une maison.ipynb",
   "provenance": [],
   "toc_visible": true
  },
  "kernelspec": {
   "display_name": "Python 3",
   "language": "python",
   "name": "python3"
  },
  "language_info": {
   "codemirror_mode": {
    "name": "ipython",
    "version": 3
   },
   "file_extension": ".py",
   "mimetype": "text/x-python",
   "name": "python",
   "nbconvert_exporter": "python",
   "pygments_lexer": "ipython3",
   "version": "3.9.5"
  }
 },
 "nbformat": 4,
 "nbformat_minor": 1
}
