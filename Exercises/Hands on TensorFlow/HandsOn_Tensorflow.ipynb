{
 "cells": [
  {
   "cell_type": "code",
   "execution_count": 1,
   "metadata": {},
   "outputs": [],
   "source": [
    "from __future__ import print_function\n",
    "from ipywidgets import interact, interactive, fixed, interact_manual\n",
    "import ipywidgets as widgets"
   ]
  },
  {
   "cell_type": "code",
   "execution_count": 2,
   "metadata": {},
   "outputs": [],
   "source": [
    "import matplotlib.pyplot as plt\n",
    "import numpy as np\n",
    "import pandas as pd\n",
    "import seaborn as sns"
   ]
  },
  {
   "cell_type": "code",
   "execution_count": 3,
   "metadata": {},
   "outputs": [],
   "source": [
    "import tensorflow as tf\n",
    "\n",
    "from tensorflow import keras\n",
    "from tensorflow.keras import layers\n",
    "from tensorflow.keras.utils import plot_model\n",
    "from keras_visualizer import visualizer \n"
   ]
  },
  {
   "cell_type": "code",
   "execution_count": 4,
   "metadata": {},
   "outputs": [
    {
     "name": "stdout",
     "output_type": "stream",
     "text": [
      "2.5.0\n"
     ]
    }
   ],
   "source": [
    "print(tf.__version__)"
   ]
  },
  {
   "cell_type": "code",
   "execution_count": 5,
   "metadata": {},
   "outputs": [],
   "source": [
    "df_data = pd.read_csv(\"./house-prices-data/house-prices-data.csv\")\n",
    "\n",
    "dataset = df_data.copy()"
   ]
  },
  {
   "cell_type": "markdown",
   "metadata": {},
   "source": [
    "## Separating Data"
   ]
  },
  {
   "cell_type": "code",
   "execution_count": 6,
   "metadata": {},
   "outputs": [],
   "source": [
    "train_dataset = dataset.sample(frac=0.8, random_state=0)\n",
    "test_dataset = dataset.drop(train_dataset.index)\n",
    "\n",
    "dataset_X = dataset.drop([\"Id\",\"SalePrice\"], axis = 1)\n",
    "dataset_id = dataset[\"Id\"]\n",
    "dataset_y = dataset[\"SalePrice\"]\n",
    "\n",
    "train_dataset_X = train_dataset.drop([\"Id\",\"SalePrice\"], axis = 1)\n",
    "train_dataset_id = train_dataset[\"Id\"]\n",
    "train_dataset_y = train_dataset[\"SalePrice\"]\n",
    "\n",
    "test_dataset_X = test_dataset.drop([\"Id\",\"SalePrice\"], axis = 1)\n",
    "test_dataset_id = test_dataset[\"Id\"]\n",
    "test_dataset_y = test_dataset[\"SalePrice\"]\n",
    "\n",
    "# or use the train_test splitter from scikit learn\n",
    "\n",
    "# Write the example here with sklearn"
   ]
  },
  {
   "cell_type": "code",
   "execution_count": 7,
   "metadata": {},
   "outputs": [
    {
     "name": "stdout",
     "output_type": "stream",
     "text": [
      "Training dataset has 1168 values.\n",
      "Testing dataset has 292 values.\n"
     ]
    }
   ],
   "source": [
    "print(\"Training dataset has\", len(train_dataset_X), \"values.\")\n",
    "print(\"Testing dataset has\", len(test_dataset_X), \"values.\")"
   ]
  },
  {
   "cell_type": "markdown",
   "metadata": {},
   "source": [
    "## Normalization"
   ]
  },
  {
   "cell_type": "markdown",
   "metadata": {},
   "source": [
    "La normalisation est une transformation de la donnée qui permet de \"normaliser\" la moyenne et la deviation standard d'une distribution. Pour cela on déplace chaque valeur par l'écart et divisant par la déviation standard. Cela permet de ne pas avoir de valeurs trop de difference entre les differentes features de notre dataset et permet aussi de rendre notre convergence plus stable pour nos modèles. "
   ]
  },
  {
   "cell_type": "code",
   "execution_count": 8,
   "metadata": {},
   "outputs": [
    {
     "data": {
      "text/html": [
       "<div>\n",
       "<style scoped>\n",
       "    .dataframe tbody tr th:only-of-type {\n",
       "        vertical-align: middle;\n",
       "    }\n",
       "\n",
       "    .dataframe tbody tr th {\n",
       "        vertical-align: top;\n",
       "    }\n",
       "\n",
       "    .dataframe thead th {\n",
       "        text-align: right;\n",
       "    }\n",
       "</style>\n",
       "<table border=\"1\" class=\"dataframe\">\n",
       "  <thead>\n",
       "    <tr style=\"text-align: right;\">\n",
       "      <th></th>\n",
       "      <th>mean</th>\n",
       "      <th>std</th>\n",
       "    </tr>\n",
       "  </thead>\n",
       "  <tbody>\n",
       "    <tr>\n",
       "      <th>Id</th>\n",
       "      <td>730.949486</td>\n",
       "      <td>421.221360</td>\n",
       "    </tr>\n",
       "    <tr>\n",
       "      <th>MSSubClass</th>\n",
       "      <td>57.572774</td>\n",
       "      <td>42.053072</td>\n",
       "    </tr>\n",
       "    <tr>\n",
       "      <th>MSZoning</th>\n",
       "      <td>3.032534</td>\n",
       "      <td>0.631075</td>\n",
       "    </tr>\n",
       "    <tr>\n",
       "      <th>LotFrontage</th>\n",
       "      <td>200.055651</td>\n",
       "      <td>3121.409754</td>\n",
       "    </tr>\n",
       "    <tr>\n",
       "      <th>LotArea</th>\n",
       "      <td>10549.443493</td>\n",
       "      <td>9906.540386</td>\n",
       "    </tr>\n",
       "    <tr>\n",
       "      <th>...</th>\n",
       "      <td>...</td>\n",
       "      <td>...</td>\n",
       "    </tr>\n",
       "    <tr>\n",
       "      <th>MoSold</th>\n",
       "      <td>6.366438</td>\n",
       "      <td>2.701544</td>\n",
       "    </tr>\n",
       "    <tr>\n",
       "      <th>YrSold</th>\n",
       "      <td>2007.819349</td>\n",
       "      <td>1.318539</td>\n",
       "    </tr>\n",
       "    <tr>\n",
       "      <th>SaleType</th>\n",
       "      <td>7.482021</td>\n",
       "      <td>1.585502</td>\n",
       "    </tr>\n",
       "    <tr>\n",
       "      <th>SaleCondition</th>\n",
       "      <td>3.761130</td>\n",
       "      <td>1.134621</td>\n",
       "    </tr>\n",
       "    <tr>\n",
       "      <th>SalePrice</th>\n",
       "      <td>183474.327911</td>\n",
       "      <td>81395.422704</td>\n",
       "    </tr>\n",
       "  </tbody>\n",
       "</table>\n",
       "<p>77 rows × 2 columns</p>\n",
       "</div>"
      ],
      "text/plain": [
       "                        mean           std\n",
       "Id                730.949486    421.221360\n",
       "MSSubClass         57.572774     42.053072\n",
       "MSZoning            3.032534      0.631075\n",
       "LotFrontage       200.055651   3121.409754\n",
       "LotArea         10549.443493   9906.540386\n",
       "...                      ...           ...\n",
       "MoSold              6.366438      2.701544\n",
       "YrSold           2007.819349      1.318539\n",
       "SaleType            7.482021      1.585502\n",
       "SaleCondition       3.761130      1.134621\n",
       "SalePrice      183474.327911  81395.422704\n",
       "\n",
       "[77 rows x 2 columns]"
      ]
     },
     "execution_count": 8,
     "metadata": {},
     "output_type": "execute_result"
    }
   ],
   "source": [
    "train_dataset.describe().transpose()[['mean', 'std']]"
   ]
  },
  {
   "cell_type": "markdown",
   "metadata": {},
   "source": [
    "### The 'old' way : Pandas"
   ]
  },
  {
   "cell_type": "code",
   "execution_count": 9,
   "metadata": {},
   "outputs": [],
   "source": [
    "def normalize(x, mean, std): \n",
    "    return ((x-mean)/std)"
   ]
  },
  {
   "cell_type": "code",
   "execution_count": 10,
   "metadata": {},
   "outputs": [],
   "source": [
    "def normalizeColumn(df, colName):\n",
    "    meanVal = df[colName].mean()\n",
    "    stdVal = df[colName].std()\n",
    "    print(meanVal, stdVal)\n",
    "\n",
    "    newCol = df[colName].apply(lambda x: normalize(x,meanVal, stdVal))\n",
    "    newMean = newCol.mean()\n",
    "    newStd = newCol.std()\n",
    "    print(newMean, newStd)\n",
    "    \n",
    "    return newCol"
   ]
  },
  {
   "cell_type": "code",
   "execution_count": 11,
   "metadata": {},
   "outputs": [
    {
     "name": "stdout",
     "output_type": "stream",
     "text": [
      "3.0287671232876714 0.6320174410566584\n",
      "-2.822704018773001e-16 0.9999999999999998\n"
     ]
    },
    {
     "data": {
      "text/plain": [
       "0      -0.045516\n",
       "1      -0.045516\n",
       "2      -0.045516\n",
       "3      -0.045516\n",
       "4      -0.045516\n",
       "          ...   \n",
       "1455   -0.045516\n",
       "1456   -0.045516\n",
       "1457   -0.045516\n",
       "1458   -0.045516\n",
       "1459   -0.045516\n",
       "Name: MSZoning, Length: 1460, dtype: float64"
      ]
     },
     "execution_count": 11,
     "metadata": {},
     "output_type": "execute_result"
    }
   ],
   "source": [
    "normalizeColumn(dataset_X, \"MSZoning\")"
   ]
  },
  {
   "cell_type": "markdown",
   "metadata": {},
   "source": [
    "We can transform the complete dataset with a simple line"
   ]
  },
  {
   "cell_type": "code",
   "execution_count": 12,
   "metadata": {},
   "outputs": [
    {
     "data": {
      "text/html": [
       "<div>\n",
       "<style scoped>\n",
       "    .dataframe tbody tr th:only-of-type {\n",
       "        vertical-align: middle;\n",
       "    }\n",
       "\n",
       "    .dataframe tbody tr th {\n",
       "        vertical-align: top;\n",
       "    }\n",
       "\n",
       "    .dataframe thead th {\n",
       "        text-align: right;\n",
       "    }\n",
       "</style>\n",
       "<table border=\"1\" class=\"dataframe\">\n",
       "  <thead>\n",
       "    <tr style=\"text-align: right;\">\n",
       "      <th></th>\n",
       "      <th>MSSubClass</th>\n",
       "      <th>MSZoning</th>\n",
       "      <th>LotFrontage</th>\n",
       "      <th>LotArea</th>\n",
       "      <th>Street</th>\n",
       "      <th>LotShape</th>\n",
       "      <th>LandContour</th>\n",
       "      <th>Utilities</th>\n",
       "      <th>LotConfig</th>\n",
       "      <th>LandSlope</th>\n",
       "      <th>...</th>\n",
       "      <th>OpenPorchSF</th>\n",
       "      <th>EnclosedPorch</th>\n",
       "      <th>3SsnPorch</th>\n",
       "      <th>ScreenPorch</th>\n",
       "      <th>PoolArea</th>\n",
       "      <th>MiscVal</th>\n",
       "      <th>MoSold</th>\n",
       "      <th>YrSold</th>\n",
       "      <th>SaleType</th>\n",
       "      <th>SaleCondition</th>\n",
       "    </tr>\n",
       "  </thead>\n",
       "  <tbody>\n",
       "    <tr>\n",
       "      <th>0</th>\n",
       "      <td>58.654929</td>\n",
       "      <td>-1.792221</td>\n",
       "      <td>64.943808</td>\n",
       "      <td>8448.946343</td>\n",
       "      <td>-14.561727</td>\n",
       "      <td>1.62154</td>\n",
       "      <td>-0.92473</td>\n",
       "      <td>-0.026171</td>\n",
       "      <td>2.139336</td>\n",
       "      <td>-0.225639</td>\n",
       "      <td>...</td>\n",
       "      <td>60.295758</td>\n",
       "      <td>-0.359202</td>\n",
       "      <td>-0.116299</td>\n",
       "      <td>-0.270116</td>\n",
       "      <td>-0.068668</td>\n",
       "      <td>-0.087658</td>\n",
       "      <td>-0.338311</td>\n",
       "      <td>496.198833</td>\n",
       "      <td>3.159453</td>\n",
       "      <td>0.57489</td>\n",
       "    </tr>\n",
       "    <tr>\n",
       "      <th>1</th>\n",
       "      <td>18.654929</td>\n",
       "      <td>-1.792221</td>\n",
       "      <td>79.943808</td>\n",
       "      <td>9598.946343</td>\n",
       "      <td>-14.561727</td>\n",
       "      <td>1.62154</td>\n",
       "      <td>-0.92473</td>\n",
       "      <td>-0.026171</td>\n",
       "      <td>0.139336</td>\n",
       "      <td>-0.225639</td>\n",
       "      <td>...</td>\n",
       "      <td>-0.704242</td>\n",
       "      <td>-0.359202</td>\n",
       "      <td>-0.116299</td>\n",
       "      <td>-0.270116</td>\n",
       "      <td>-0.068668</td>\n",
       "      <td>-0.087658</td>\n",
       "      <td>2.661689</td>\n",
       "      <td>495.198833</td>\n",
       "      <td>3.159453</td>\n",
       "      <td>0.57489</td>\n",
       "    </tr>\n",
       "    <tr>\n",
       "      <th>2</th>\n",
       "      <td>58.654929</td>\n",
       "      <td>-1.792221</td>\n",
       "      <td>67.943808</td>\n",
       "      <td>11248.946343</td>\n",
       "      <td>-14.561727</td>\n",
       "      <td>-1.37846</td>\n",
       "      <td>-0.92473</td>\n",
       "      <td>-0.026171</td>\n",
       "      <td>2.139336</td>\n",
       "      <td>-0.225639</td>\n",
       "      <td>...</td>\n",
       "      <td>41.295758</td>\n",
       "      <td>-0.359202</td>\n",
       "      <td>-0.116299</td>\n",
       "      <td>-0.270116</td>\n",
       "      <td>-0.068668</td>\n",
       "      <td>-0.087658</td>\n",
       "      <td>6.661689</td>\n",
       "      <td>496.198833</td>\n",
       "      <td>3.159453</td>\n",
       "      <td>0.57489</td>\n",
       "    </tr>\n",
       "    <tr>\n",
       "      <th>3</th>\n",
       "      <td>68.654929</td>\n",
       "      <td>-1.792221</td>\n",
       "      <td>59.943808</td>\n",
       "      <td>9548.946343</td>\n",
       "      <td>-14.561727</td>\n",
       "      <td>-1.37846</td>\n",
       "      <td>-0.92473</td>\n",
       "      <td>-0.026171</td>\n",
       "      <td>-1.860664</td>\n",
       "      <td>-0.225639</td>\n",
       "      <td>...</td>\n",
       "      <td>34.295758</td>\n",
       "      <td>271.640798</td>\n",
       "      <td>-0.116299</td>\n",
       "      <td>-0.270116</td>\n",
       "      <td>-0.068668</td>\n",
       "      <td>-0.087658</td>\n",
       "      <td>-0.338311</td>\n",
       "      <td>494.198833</td>\n",
       "      <td>3.159453</td>\n",
       "      <td>-3.42511</td>\n",
       "    </tr>\n",
       "    <tr>\n",
       "      <th>4</th>\n",
       "      <td>58.654929</td>\n",
       "      <td>-1.792221</td>\n",
       "      <td>83.943808</td>\n",
       "      <td>14258.946343</td>\n",
       "      <td>-14.561727</td>\n",
       "      <td>-1.37846</td>\n",
       "      <td>-0.92473</td>\n",
       "      <td>-0.026171</td>\n",
       "      <td>0.139336</td>\n",
       "      <td>-0.225639</td>\n",
       "      <td>...</td>\n",
       "      <td>83.295758</td>\n",
       "      <td>-0.359202</td>\n",
       "      <td>-0.116299</td>\n",
       "      <td>-0.270116</td>\n",
       "      <td>-0.068668</td>\n",
       "      <td>-0.087658</td>\n",
       "      <td>9.661689</td>\n",
       "      <td>496.198833</td>\n",
       "      <td>3.159453</td>\n",
       "      <td>0.57489</td>\n",
       "    </tr>\n",
       "    <tr>\n",
       "      <th>...</th>\n",
       "      <td>...</td>\n",
       "      <td>...</td>\n",
       "      <td>...</td>\n",
       "      <td>...</td>\n",
       "      <td>...</td>\n",
       "      <td>...</td>\n",
       "      <td>...</td>\n",
       "      <td>...</td>\n",
       "      <td>...</td>\n",
       "      <td>...</td>\n",
       "      <td>...</td>\n",
       "      <td>...</td>\n",
       "      <td>...</td>\n",
       "      <td>...</td>\n",
       "      <td>...</td>\n",
       "      <td>...</td>\n",
       "      <td>...</td>\n",
       "      <td>...</td>\n",
       "      <td>...</td>\n",
       "      <td>...</td>\n",
       "      <td>...</td>\n",
       "    </tr>\n",
       "    <tr>\n",
       "      <th>1455</th>\n",
       "      <td>58.654929</td>\n",
       "      <td>-1.792221</td>\n",
       "      <td>61.943808</td>\n",
       "      <td>7915.946343</td>\n",
       "      <td>-14.561727</td>\n",
       "      <td>1.62154</td>\n",
       "      <td>-0.92473</td>\n",
       "      <td>-0.026171</td>\n",
       "      <td>2.139336</td>\n",
       "      <td>-0.225639</td>\n",
       "      <td>...</td>\n",
       "      <td>39.295758</td>\n",
       "      <td>-0.359202</td>\n",
       "      <td>-0.116299</td>\n",
       "      <td>-0.270116</td>\n",
       "      <td>-0.068668</td>\n",
       "      <td>-0.087658</td>\n",
       "      <td>5.661689</td>\n",
       "      <td>495.198833</td>\n",
       "      <td>3.159453</td>\n",
       "      <td>0.57489</td>\n",
       "    </tr>\n",
       "    <tr>\n",
       "      <th>1456</th>\n",
       "      <td>18.654929</td>\n",
       "      <td>-1.792221</td>\n",
       "      <td>84.943808</td>\n",
       "      <td>13173.946343</td>\n",
       "      <td>-14.561727</td>\n",
       "      <td>1.62154</td>\n",
       "      <td>-0.92473</td>\n",
       "      <td>-0.026171</td>\n",
       "      <td>2.139336</td>\n",
       "      <td>-0.225639</td>\n",
       "      <td>...</td>\n",
       "      <td>-0.704242</td>\n",
       "      <td>-0.359202</td>\n",
       "      <td>-0.116299</td>\n",
       "      <td>-0.270116</td>\n",
       "      <td>-0.068668</td>\n",
       "      <td>-0.087658</td>\n",
       "      <td>-0.338311</td>\n",
       "      <td>498.198833</td>\n",
       "      <td>3.159453</td>\n",
       "      <td>0.57489</td>\n",
       "    </tr>\n",
       "    <tr>\n",
       "      <th>1457</th>\n",
       "      <td>68.654929</td>\n",
       "      <td>-1.792221</td>\n",
       "      <td>65.943808</td>\n",
       "      <td>9040.946343</td>\n",
       "      <td>-14.561727</td>\n",
       "      <td>1.62154</td>\n",
       "      <td>-0.92473</td>\n",
       "      <td>-0.026171</td>\n",
       "      <td>2.139336</td>\n",
       "      <td>-0.225639</td>\n",
       "      <td>...</td>\n",
       "      <td>59.295758</td>\n",
       "      <td>-0.359202</td>\n",
       "      <td>-0.116299</td>\n",
       "      <td>-0.270116</td>\n",
       "      <td>-0.068668</td>\n",
       "      <td>2499.912342</td>\n",
       "      <td>2.661689</td>\n",
       "      <td>498.198833</td>\n",
       "      <td>3.159453</td>\n",
       "      <td>0.57489</td>\n",
       "    </tr>\n",
       "    <tr>\n",
       "      <th>1458</th>\n",
       "      <td>18.654929</td>\n",
       "      <td>-1.792221</td>\n",
       "      <td>67.943808</td>\n",
       "      <td>9715.946343</td>\n",
       "      <td>-14.561727</td>\n",
       "      <td>1.62154</td>\n",
       "      <td>-0.92473</td>\n",
       "      <td>-0.026171</td>\n",
       "      <td>2.139336</td>\n",
       "      <td>-0.225639</td>\n",
       "      <td>...</td>\n",
       "      <td>-0.704242</td>\n",
       "      <td>111.640798</td>\n",
       "      <td>-0.116299</td>\n",
       "      <td>-0.270116</td>\n",
       "      <td>-0.068668</td>\n",
       "      <td>-0.087658</td>\n",
       "      <td>1.661689</td>\n",
       "      <td>498.198833</td>\n",
       "      <td>3.159453</td>\n",
       "      <td>0.57489</td>\n",
       "    </tr>\n",
       "    <tr>\n",
       "      <th>1459</th>\n",
       "      <td>18.654929</td>\n",
       "      <td>-1.792221</td>\n",
       "      <td>74.943808</td>\n",
       "      <td>9935.946343</td>\n",
       "      <td>-14.561727</td>\n",
       "      <td>1.62154</td>\n",
       "      <td>-0.92473</td>\n",
       "      <td>-0.026171</td>\n",
       "      <td>2.139336</td>\n",
       "      <td>-0.225639</td>\n",
       "      <td>...</td>\n",
       "      <td>67.295758</td>\n",
       "      <td>-0.359202</td>\n",
       "      <td>-0.116299</td>\n",
       "      <td>-0.270116</td>\n",
       "      <td>-0.068668</td>\n",
       "      <td>-0.087658</td>\n",
       "      <td>3.661689</td>\n",
       "      <td>496.198833</td>\n",
       "      <td>3.159453</td>\n",
       "      <td>0.57489</td>\n",
       "    </tr>\n",
       "  </tbody>\n",
       "</table>\n",
       "<p>1460 rows × 75 columns</p>\n",
       "</div>"
      ],
      "text/plain": [
       "      MSSubClass  MSZoning  LotFrontage       LotArea     Street  LotShape  \\\n",
       "0      58.654929 -1.792221    64.943808   8448.946343 -14.561727   1.62154   \n",
       "1      18.654929 -1.792221    79.943808   9598.946343 -14.561727   1.62154   \n",
       "2      58.654929 -1.792221    67.943808  11248.946343 -14.561727  -1.37846   \n",
       "3      68.654929 -1.792221    59.943808   9548.946343 -14.561727  -1.37846   \n",
       "4      58.654929 -1.792221    83.943808  14258.946343 -14.561727  -1.37846   \n",
       "...          ...       ...          ...           ...        ...       ...   \n",
       "1455   58.654929 -1.792221    61.943808   7915.946343 -14.561727   1.62154   \n",
       "1456   18.654929 -1.792221    84.943808  13173.946343 -14.561727   1.62154   \n",
       "1457   68.654929 -1.792221    65.943808   9040.946343 -14.561727   1.62154   \n",
       "1458   18.654929 -1.792221    67.943808   9715.946343 -14.561727   1.62154   \n",
       "1459   18.654929 -1.792221    74.943808   9935.946343 -14.561727   1.62154   \n",
       "\n",
       "      LandContour  Utilities  LotConfig  LandSlope  ...  OpenPorchSF  \\\n",
       "0        -0.92473  -0.026171   2.139336  -0.225639  ...    60.295758   \n",
       "1        -0.92473  -0.026171   0.139336  -0.225639  ...    -0.704242   \n",
       "2        -0.92473  -0.026171   2.139336  -0.225639  ...    41.295758   \n",
       "3        -0.92473  -0.026171  -1.860664  -0.225639  ...    34.295758   \n",
       "4        -0.92473  -0.026171   0.139336  -0.225639  ...    83.295758   \n",
       "...           ...        ...        ...        ...  ...          ...   \n",
       "1455     -0.92473  -0.026171   2.139336  -0.225639  ...    39.295758   \n",
       "1456     -0.92473  -0.026171   2.139336  -0.225639  ...    -0.704242   \n",
       "1457     -0.92473  -0.026171   2.139336  -0.225639  ...    59.295758   \n",
       "1458     -0.92473  -0.026171   2.139336  -0.225639  ...    -0.704242   \n",
       "1459     -0.92473  -0.026171   2.139336  -0.225639  ...    67.295758   \n",
       "\n",
       "      EnclosedPorch  3SsnPorch  ScreenPorch  PoolArea      MiscVal    MoSold  \\\n",
       "0         -0.359202  -0.116299    -0.270116 -0.068668    -0.087658 -0.338311   \n",
       "1         -0.359202  -0.116299    -0.270116 -0.068668    -0.087658  2.661689   \n",
       "2         -0.359202  -0.116299    -0.270116 -0.068668    -0.087658  6.661689   \n",
       "3        271.640798  -0.116299    -0.270116 -0.068668    -0.087658 -0.338311   \n",
       "4         -0.359202  -0.116299    -0.270116 -0.068668    -0.087658  9.661689   \n",
       "...             ...        ...          ...       ...          ...       ...   \n",
       "1455      -0.359202  -0.116299    -0.270116 -0.068668    -0.087658  5.661689   \n",
       "1456      -0.359202  -0.116299    -0.270116 -0.068668    -0.087658 -0.338311   \n",
       "1457      -0.359202  -0.116299    -0.270116 -0.068668  2499.912342  2.661689   \n",
       "1458     111.640798  -0.116299    -0.270116 -0.068668    -0.087658  1.661689   \n",
       "1459      -0.359202  -0.116299    -0.270116 -0.068668    -0.087658  3.661689   \n",
       "\n",
       "          YrSold  SaleType  SaleCondition  \n",
       "0     496.198833  3.159453        0.57489  \n",
       "1     495.198833  3.159453        0.57489  \n",
       "2     496.198833  3.159453        0.57489  \n",
       "3     494.198833  3.159453       -3.42511  \n",
       "4     496.198833  3.159453        0.57489  \n",
       "...          ...       ...            ...  \n",
       "1455  495.198833  3.159453        0.57489  \n",
       "1456  498.198833  3.159453        0.57489  \n",
       "1457  498.198833  3.159453        0.57489  \n",
       "1458  498.198833  3.159453        0.57489  \n",
       "1459  496.198833  3.159453        0.57489  \n",
       "\n",
       "[1460 rows x 75 columns]"
      ]
     },
     "execution_count": 12,
     "metadata": {},
     "output_type": "execute_result"
    }
   ],
   "source": [
    "dataset_X-dataset_X.mean()/dataset_X.std()"
   ]
  },
  {
   "cell_type": "markdown",
   "metadata": {},
   "source": [
    "### A bit of help from Scikit Learn?"
   ]
  },
  {
   "cell_type": "code",
   "execution_count": 13,
   "metadata": {},
   "outputs": [
    {
     "data": {
      "text/html": [
       "<div>\n",
       "<style scoped>\n",
       "    .dataframe tbody tr th:only-of-type {\n",
       "        vertical-align: middle;\n",
       "    }\n",
       "\n",
       "    .dataframe tbody tr th {\n",
       "        vertical-align: top;\n",
       "    }\n",
       "\n",
       "    .dataframe thead th {\n",
       "        text-align: right;\n",
       "    }\n",
       "</style>\n",
       "<table border=\"1\" class=\"dataframe\">\n",
       "  <thead>\n",
       "    <tr style=\"text-align: right;\">\n",
       "      <th></th>\n",
       "      <th>MSSubClass</th>\n",
       "      <th>MSZoning</th>\n",
       "      <th>LotFrontage</th>\n",
       "      <th>LotArea</th>\n",
       "      <th>Street</th>\n",
       "      <th>LotShape</th>\n",
       "      <th>LandContour</th>\n",
       "      <th>Utilities</th>\n",
       "      <th>LotConfig</th>\n",
       "      <th>LandSlope</th>\n",
       "      <th>...</th>\n",
       "      <th>OpenPorchSF</th>\n",
       "      <th>EnclosedPorch</th>\n",
       "      <th>3SsnPorch</th>\n",
       "      <th>ScreenPorch</th>\n",
       "      <th>PoolArea</th>\n",
       "      <th>MiscVal</th>\n",
       "      <th>MoSold</th>\n",
       "      <th>YrSold</th>\n",
       "      <th>SaleType</th>\n",
       "      <th>SaleCondition</th>\n",
       "    </tr>\n",
       "  </thead>\n",
       "  <tbody>\n",
       "    <tr>\n",
       "      <th>count</th>\n",
       "      <td>1460.000000</td>\n",
       "      <td>1460.000000</td>\n",
       "      <td>1460.000000</td>\n",
       "      <td>1460.000000</td>\n",
       "      <td>1460.000000</td>\n",
       "      <td>1460.000000</td>\n",
       "      <td>1460.000000</td>\n",
       "      <td>1460.000000</td>\n",
       "      <td>1460.000000</td>\n",
       "      <td>1460.000000</td>\n",
       "      <td>...</td>\n",
       "      <td>1460.000000</td>\n",
       "      <td>1460.000000</td>\n",
       "      <td>1460.000000</td>\n",
       "      <td>1460.000000</td>\n",
       "      <td>1460.000000</td>\n",
       "      <td>1460.000000</td>\n",
       "      <td>1460.000000</td>\n",
       "      <td>1460.000000</td>\n",
       "      <td>1460.000000</td>\n",
       "      <td>1460.000000</td>\n",
       "    </tr>\n",
       "    <tr>\n",
       "      <th>mean</th>\n",
       "      <td>0.217043</td>\n",
       "      <td>0.757192</td>\n",
       "      <td>0.001740</td>\n",
       "      <td>0.043080</td>\n",
       "      <td>0.995890</td>\n",
       "      <td>0.647489</td>\n",
       "      <td>0.925799</td>\n",
       "      <td>0.000685</td>\n",
       "      <td>0.754795</td>\n",
       "      <td>0.031164</td>\n",
       "      <td>...</td>\n",
       "      <td>0.085302</td>\n",
       "      <td>0.039772</td>\n",
       "      <td>0.006712</td>\n",
       "      <td>0.031377</td>\n",
       "      <td>0.003738</td>\n",
       "      <td>0.002806</td>\n",
       "      <td>0.483811</td>\n",
       "      <td>0.453938</td>\n",
       "      <td>0.939127</td>\n",
       "      <td>0.754110</td>\n",
       "    </tr>\n",
       "    <tr>\n",
       "      <th>std</th>\n",
       "      <td>0.248827</td>\n",
       "      <td>0.158004</td>\n",
       "      <td>0.030958</td>\n",
       "      <td>0.046653</td>\n",
       "      <td>0.063996</td>\n",
       "      <td>0.469719</td>\n",
       "      <td>0.235889</td>\n",
       "      <td>0.026171</td>\n",
       "      <td>0.405659</td>\n",
       "      <td>0.138116</td>\n",
       "      <td>...</td>\n",
       "      <td>0.121126</td>\n",
       "      <td>0.110723</td>\n",
       "      <td>0.057711</td>\n",
       "      <td>0.116161</td>\n",
       "      <td>0.054441</td>\n",
       "      <td>0.032008</td>\n",
       "      <td>0.245784</td>\n",
       "      <td>0.332024</td>\n",
       "      <td>0.194013</td>\n",
       "      <td>0.220171</td>\n",
       "    </tr>\n",
       "    <tr>\n",
       "      <th>min</th>\n",
       "      <td>0.000000</td>\n",
       "      <td>0.000000</td>\n",
       "      <td>0.000000</td>\n",
       "      <td>0.000000</td>\n",
       "      <td>0.000000</td>\n",
       "      <td>0.000000</td>\n",
       "      <td>0.000000</td>\n",
       "      <td>0.000000</td>\n",
       "      <td>0.000000</td>\n",
       "      <td>0.000000</td>\n",
       "      <td>...</td>\n",
       "      <td>0.000000</td>\n",
       "      <td>0.000000</td>\n",
       "      <td>0.000000</td>\n",
       "      <td>0.000000</td>\n",
       "      <td>0.000000</td>\n",
       "      <td>0.000000</td>\n",
       "      <td>0.000000</td>\n",
       "      <td>0.000000</td>\n",
       "      <td>0.000000</td>\n",
       "      <td>0.000000</td>\n",
       "    </tr>\n",
       "    <tr>\n",
       "      <th>25%</th>\n",
       "      <td>0.000000</td>\n",
       "      <td>0.750000</td>\n",
       "      <td>0.000297</td>\n",
       "      <td>0.029229</td>\n",
       "      <td>1.000000</td>\n",
       "      <td>0.000000</td>\n",
       "      <td>1.000000</td>\n",
       "      <td>0.000000</td>\n",
       "      <td>0.500000</td>\n",
       "      <td>0.000000</td>\n",
       "      <td>...</td>\n",
       "      <td>0.000000</td>\n",
       "      <td>0.000000</td>\n",
       "      <td>0.000000</td>\n",
       "      <td>0.000000</td>\n",
       "      <td>0.000000</td>\n",
       "      <td>0.000000</td>\n",
       "      <td>0.363636</td>\n",
       "      <td>0.250000</td>\n",
       "      <td>1.000000</td>\n",
       "      <td>0.800000</td>\n",
       "    </tr>\n",
       "    <tr>\n",
       "      <th>50%</th>\n",
       "      <td>0.176471</td>\n",
       "      <td>0.750000</td>\n",
       "      <td>0.000386</td>\n",
       "      <td>0.038227</td>\n",
       "      <td>1.000000</td>\n",
       "      <td>1.000000</td>\n",
       "      <td>1.000000</td>\n",
       "      <td>0.000000</td>\n",
       "      <td>1.000000</td>\n",
       "      <td>0.000000</td>\n",
       "      <td>...</td>\n",
       "      <td>0.045704</td>\n",
       "      <td>0.000000</td>\n",
       "      <td>0.000000</td>\n",
       "      <td>0.000000</td>\n",
       "      <td>0.000000</td>\n",
       "      <td>0.000000</td>\n",
       "      <td>0.454545</td>\n",
       "      <td>0.500000</td>\n",
       "      <td>1.000000</td>\n",
       "      <td>0.800000</td>\n",
       "    </tr>\n",
       "    <tr>\n",
       "      <th>75%</th>\n",
       "      <td>0.294118</td>\n",
       "      <td>0.750000</td>\n",
       "      <td>0.000475</td>\n",
       "      <td>0.048150</td>\n",
       "      <td>1.000000</td>\n",
       "      <td>1.000000</td>\n",
       "      <td>1.000000</td>\n",
       "      <td>0.000000</td>\n",
       "      <td>1.000000</td>\n",
       "      <td>0.000000</td>\n",
       "      <td>...</td>\n",
       "      <td>0.124314</td>\n",
       "      <td>0.000000</td>\n",
       "      <td>0.000000</td>\n",
       "      <td>0.000000</td>\n",
       "      <td>0.000000</td>\n",
       "      <td>0.000000</td>\n",
       "      <td>0.636364</td>\n",
       "      <td>0.750000</td>\n",
       "      <td>1.000000</td>\n",
       "      <td>0.800000</td>\n",
       "    </tr>\n",
       "    <tr>\n",
       "      <th>max</th>\n",
       "      <td>1.000000</td>\n",
       "      <td>1.000000</td>\n",
       "      <td>1.000000</td>\n",
       "      <td>1.000000</td>\n",
       "      <td>1.000000</td>\n",
       "      <td>1.000000</td>\n",
       "      <td>1.000000</td>\n",
       "      <td>1.000000</td>\n",
       "      <td>1.000000</td>\n",
       "      <td>1.000000</td>\n",
       "      <td>...</td>\n",
       "      <td>1.000000</td>\n",
       "      <td>1.000000</td>\n",
       "      <td>1.000000</td>\n",
       "      <td>1.000000</td>\n",
       "      <td>1.000000</td>\n",
       "      <td>1.000000</td>\n",
       "      <td>1.000000</td>\n",
       "      <td>1.000000</td>\n",
       "      <td>1.000000</td>\n",
       "      <td>1.000000</td>\n",
       "    </tr>\n",
       "  </tbody>\n",
       "</table>\n",
       "<p>8 rows × 75 columns</p>\n",
       "</div>"
      ],
      "text/plain": [
       "        MSSubClass     MSZoning  LotFrontage      LotArea       Street  \\\n",
       "count  1460.000000  1460.000000  1460.000000  1460.000000  1460.000000   \n",
       "mean      0.217043     0.757192     0.001740     0.043080     0.995890   \n",
       "std       0.248827     0.158004     0.030958     0.046653     0.063996   \n",
       "min       0.000000     0.000000     0.000000     0.000000     0.000000   \n",
       "25%       0.000000     0.750000     0.000297     0.029229     1.000000   \n",
       "50%       0.176471     0.750000     0.000386     0.038227     1.000000   \n",
       "75%       0.294118     0.750000     0.000475     0.048150     1.000000   \n",
       "max       1.000000     1.000000     1.000000     1.000000     1.000000   \n",
       "\n",
       "          LotShape  LandContour    Utilities    LotConfig    LandSlope  ...  \\\n",
       "count  1460.000000  1460.000000  1460.000000  1460.000000  1460.000000  ...   \n",
       "mean      0.647489     0.925799     0.000685     0.754795     0.031164  ...   \n",
       "std       0.469719     0.235889     0.026171     0.405659     0.138116  ...   \n",
       "min       0.000000     0.000000     0.000000     0.000000     0.000000  ...   \n",
       "25%       0.000000     1.000000     0.000000     0.500000     0.000000  ...   \n",
       "50%       1.000000     1.000000     0.000000     1.000000     0.000000  ...   \n",
       "75%       1.000000     1.000000     0.000000     1.000000     0.000000  ...   \n",
       "max       1.000000     1.000000     1.000000     1.000000     1.000000  ...   \n",
       "\n",
       "       OpenPorchSF  EnclosedPorch    3SsnPorch  ScreenPorch     PoolArea  \\\n",
       "count  1460.000000    1460.000000  1460.000000  1460.000000  1460.000000   \n",
       "mean      0.085302       0.039772     0.006712     0.031377     0.003738   \n",
       "std       0.121126       0.110723     0.057711     0.116161     0.054441   \n",
       "min       0.000000       0.000000     0.000000     0.000000     0.000000   \n",
       "25%       0.000000       0.000000     0.000000     0.000000     0.000000   \n",
       "50%       0.045704       0.000000     0.000000     0.000000     0.000000   \n",
       "75%       0.124314       0.000000     0.000000     0.000000     0.000000   \n",
       "max       1.000000       1.000000     1.000000     1.000000     1.000000   \n",
       "\n",
       "           MiscVal       MoSold       YrSold     SaleType  SaleCondition  \n",
       "count  1460.000000  1460.000000  1460.000000  1460.000000    1460.000000  \n",
       "mean      0.002806     0.483811     0.453938     0.939127       0.754110  \n",
       "std       0.032008     0.245784     0.332024     0.194013       0.220171  \n",
       "min       0.000000     0.000000     0.000000     0.000000       0.000000  \n",
       "25%       0.000000     0.363636     0.250000     1.000000       0.800000  \n",
       "50%       0.000000     0.454545     0.500000     1.000000       0.800000  \n",
       "75%       0.000000     0.636364     0.750000     1.000000       0.800000  \n",
       "max       1.000000     1.000000     1.000000     1.000000       1.000000  \n",
       "\n",
       "[8 rows x 75 columns]"
      ]
     },
     "execution_count": 13,
     "metadata": {},
     "output_type": "execute_result"
    }
   ],
   "source": [
    "from sklearn import preprocessing\n",
    "\n",
    "x = dataset_X.values #returns a numpy array\n",
    "col = dataset_X.columns\n",
    "min_max_scaler = preprocessing.MinMaxScaler()\n",
    "x_scaled = min_max_scaler.fit_transform(x)\n",
    "normalized_dataset_X = pd.DataFrame(x_scaled, columns=col)\n",
    "normalized_dataset_X.describe()"
   ]
  },
  {
   "cell_type": "markdown",
   "metadata": {},
   "source": [
    "### Normalization with TensorFlow "
   ]
  },
  {
   "cell_type": "markdown",
   "metadata": {},
   "source": [
    "Normalization can be added directy in our models so that we don't have to worry about it anymore !"
   ]
  },
  {
   "cell_type": "code",
   "execution_count": 14,
   "metadata": {},
   "outputs": [
    {
     "name": "stdout",
     "output_type": "stream",
     "text": [
      "[5.75727577e+01 3.03253508e+00 2.00055664e+02 1.05494443e+04\n",
      " 9.96575475e-01 1.94606161e+00 2.76626730e+00 8.56164377e-04\n",
      " 3.06678057e+00 6.07876703e-02 1.23202047e+01 2.03253388e+00\n",
      " 2.01027393e+00 4.88013774e-01 3.04794431e+00 6.15325212e+00\n",
      " 5.58647346e+00 1.97117981e+03 1.98508813e+03 1.40924621e+00\n",
      " 1.07619846e+00 9.56164265e+00 1.03047962e+01 1.76626718e+00\n",
      " 1.05862999e+02 2.52654076e+00 3.73544526e+00 1.39041102e+00\n",
      " 2.27911019e+00 2.83304763e+00 2.29623318e+00 2.82191706e+00\n",
      " 4.43898987e+02 4.74914455e+00 4.65042763e+01 5.75950378e+02\n",
      " 1.06635352e+03 1.03681505e+00 1.51369882e+00 9.34075296e-01\n",
      " 3.69948649e+00 1.16843384e+03 3.55280823e+02 6.92465782e+00\n",
      " 1.53063940e+03 4.29794461e-01 5.65068498e-02 1.56763673e+00\n",
      " 3.91267031e-01 2.86130071e+00 1.04708874e+00 2.32705450e+00\n",
      " 6.55308199e+00 5.76027489e+00 6.21575415e-01 3.77910924e+00\n",
      " 2.51712322e+00 1.88355994e+03 1.27825356e+00 1.78424644e+00\n",
      " 4.77242340e+02 3.93321848e+00 3.96575356e+00 1.86301351e+00\n",
      " 9.43647156e+01 4.70256767e+01 2.29571934e+01 3.96917820e+00\n",
      " 1.44280815e+01 3.01027393e+00 4.30993195e+01 6.36643839e+00\n",
      " 2.00781934e+03 7.48202133e+00 3.76112986e+00]\n"
     ]
    }
   ],
   "source": [
    "from tensorflow.keras.layers.experimental import preprocessing\n",
    "\n",
    "normalizer = preprocessing.Normalization()\n",
    "normalizer.adapt(np.array(train_dataset_X))\n",
    "print(normalizer.mean.numpy())"
   ]
  },
  {
   "cell_type": "markdown",
   "metadata": {},
   "source": [
    "## Linear Regression"
   ]
  },
  {
   "cell_type": "markdown",
   "metadata": {},
   "source": [
    "### A shallow network\n",
    "\n",
    "`keras` used to live as a separate entity from `tensorflow`. It is an interface built on top of `theano` and `tensorflow` to simplify some of their non-beginner-friendly methods. It was integrated inside `tensorflow` in 2019. \n",
    "\n",
    "We can use the `tf.keras.Sequential` from the `tf.keras` API to build our first shallow model."
   ]
  },
  {
   "cell_type": "code",
   "execution_count": 15,
   "metadata": {},
   "outputs": [
    {
     "name": "stdout",
     "output_type": "stream",
     "text": [
      "Model: \"sequential\"\n",
      "_________________________________________________________________\n",
      "Layer (type)                 Output Shape              Param #   \n",
      "=================================================================\n",
      "normalization (Normalization (None, 75)                151       \n",
      "_________________________________________________________________\n",
      "dense (Dense)                (None, 1)                 76        \n",
      "=================================================================\n",
      "Total params: 227\n",
      "Trainable params: 76\n",
      "Non-trainable params: 151\n",
      "_________________________________________________________________\n"
     ]
    }
   ],
   "source": [
    "shallow_model = tf.keras.Sequential([\n",
    "    normalizer,\n",
    "    layers.Dense(units=1)\n",
    "])\n",
    "\n",
    "shallow_model.summary()"
   ]
  },
  {
   "cell_type": "code",
   "execution_count": 16,
   "metadata": {},
   "outputs": [
    {
     "data": {
      "image/png": "[encoded data removed]",
      "text/plain": [
       "<IPython.core.display.Image object>"
      ]
     },
     "execution_count": 16,
     "metadata": {},
     "output_type": "execute_result"
    }
   ],
   "source": [
    "#visualizer(shallow_model, format='png', view=True)\n",
    "plot_model(shallow_model, to_file='shallow_model.png', show_shapes=True, rankdir='LR')"
   ]
  },
  {
   "cell_type": "code",
   "execution_count": 17,
   "metadata": {},
   "outputs": [
    {
     "data": {
      "text/plain": [
       "array([[ 3.306381  ],\n",
       "       [ 0.5623585 ],\n",
       "       [ 0.06214246],\n",
       "       ...,\n",
       "       [ 0.25930962],\n",
       "       [-0.02199333],\n",
       "       [ 0.95170766]], dtype=float32)"
      ]
     },
     "execution_count": 17,
     "metadata": {},
     "output_type": "execute_result"
    }
   ],
   "source": [
    "shallow_model.predict(train_dataset_X)"
   ]
  },
  {
   "cell_type": "code",
   "execution_count": 18,
   "metadata": {},
   "outputs": [],
   "source": [
    "shallow_model.compile(\n",
    "    optimizer=tf.optimizers.Adam(learning_rate=0.8),\n",
    "    loss='mean_absolute_error')"
   ]
  },
  {
   "cell_type": "code",
   "execution_count": 19,
   "metadata": {},
   "outputs": [
    {
     "name": "stdout",
     "output_type": "stream",
     "text": [
      "CPU times: user 5min 43s, sys: 50.2 s, total: 6min 33s\n",
      "Wall time: 4min 38s\n"
     ]
    }
   ],
   "source": [
    "%%time\n",
    "history = shallow_model.fit(\n",
    "    train_dataset_X, train_dataset_y,\n",
    "    epochs=10000,\n",
    "    # suppress logging\n",
    "    verbose=0,\n",
    "    # Calculate validation results on 20% of the training data\n",
    "    validation_split = 0.2)"
   ]
  },
  {
   "cell_type": "code",
   "execution_count": 20,
   "metadata": {},
   "outputs": [
    {
     "data": {
      "text/html": [
       "<div>\n",
       "<style scoped>\n",
       "    .dataframe tbody tr th:only-of-type {\n",
       "        vertical-align: middle;\n",
       "    }\n",
       "\n",
       "    .dataframe tbody tr th {\n",
       "        vertical-align: top;\n",
       "    }\n",
       "\n",
       "    .dataframe thead th {\n",
       "        text-align: right;\n",
       "    }\n",
       "</style>\n",
       "<table border=\"1\" class=\"dataframe\">\n",
       "  <thead>\n",
       "    <tr style=\"text-align: right;\">\n",
       "      <th></th>\n",
       "      <th>loss</th>\n",
       "      <th>val_loss</th>\n",
       "      <th>epoch</th>\n",
       "    </tr>\n",
       "  </thead>\n",
       "  <tbody>\n",
       "    <tr>\n",
       "      <th>9995</th>\n",
       "      <td>17055.457031</td>\n",
       "      <td>17865.146484</td>\n",
       "      <td>9995</td>\n",
       "    </tr>\n",
       "    <tr>\n",
       "      <th>9996</th>\n",
       "      <td>17056.099609</td>\n",
       "      <td>17863.785156</td>\n",
       "      <td>9996</td>\n",
       "    </tr>\n",
       "    <tr>\n",
       "      <th>9997</th>\n",
       "      <td>17056.404297</td>\n",
       "      <td>17863.470703</td>\n",
       "      <td>9997</td>\n",
       "    </tr>\n",
       "    <tr>\n",
       "      <th>9998</th>\n",
       "      <td>17055.494141</td>\n",
       "      <td>17865.250000</td>\n",
       "      <td>9998</td>\n",
       "    </tr>\n",
       "    <tr>\n",
       "      <th>9999</th>\n",
       "      <td>17056.115234</td>\n",
       "      <td>17865.908203</td>\n",
       "      <td>9999</td>\n",
       "    </tr>\n",
       "  </tbody>\n",
       "</table>\n",
       "</div>"
      ],
      "text/plain": [
       "              loss      val_loss  epoch\n",
       "9995  17055.457031  17865.146484   9995\n",
       "9996  17056.099609  17863.785156   9996\n",
       "9997  17056.404297  17863.470703   9997\n",
       "9998  17055.494141  17865.250000   9998\n",
       "9999  17056.115234  17865.908203   9999"
      ]
     },
     "execution_count": 20,
     "metadata": {},
     "output_type": "execute_result"
    }
   ],
   "source": [
    "hist = pd.DataFrame(history.history)\n",
    "hist['epoch'] = history.epoch\n",
    "hist.tail()"
   ]
  },
  {
   "cell_type": "code",
   "execution_count": 21,
   "metadata": {},
   "outputs": [],
   "source": [
    "def plot_loss(history):\n",
    "  plt.plot(history.history['loss'], label='loss')\n",
    "  plt.plot(history.history['val_loss'], label='val_loss')\n",
    "  plt.xlabel('Epoch')\n",
    "  plt.ylabel('Error J')\n",
    "  plt.legend()\n",
    "  plt.grid(True)"
   ]
  },
  {
   "cell_type": "code",
   "execution_count": 22,
   "metadata": {},
   "outputs": [
    {
     "data": {
      "image/png": "[encoded data removed]",
      "text/plain": [
       "<Figure size 432x288 with 1 Axes>"
      ]
     },
     "metadata": {
      "needs_background": "light"
     },
     "output_type": "display_data"
    }
   ],
   "source": [
    "plot_loss(history)"
   ]
  },
  {
   "cell_type": "code",
   "execution_count": 23,
   "metadata": {},
   "outputs": [],
   "source": [
    "train_dataset_hat_y = shallow_model.predict(train_dataset_X)"
   ]
  },
  {
   "cell_type": "code",
   "execution_count": 24,
   "metadata": {},
   "outputs": [
    {
     "name": "stdout",
     "output_type": "stream",
     "text": [
      "Error at testing is :  17413.724609375\n"
     ]
    }
   ],
   "source": [
    " test_cost = shallow_model.evaluate(\n",
    "    test_dataset_X, test_dataset_y, verbose=0)\n",
    "\n",
    "print(\"Error at testing is : \", test_cost)"
   ]
  },
  {
   "cell_type": "code",
   "execution_count": 25,
   "metadata": {},
   "outputs": [
    {
     "data": {
      "application/vnd.jupyter.widget-view+json": {
       "model_id": "f2c97b4da0c544ee9eb230f3bd2c3c7c",
       "version_major": 2,
       "version_minor": 0
      },
      "text/plain": [
       "interactive(children=(IntSlider(value=0, description='x', max=291), Output()), _dom_classes=('widget-interact'…"
      ]
     },
     "metadata": {},
     "output_type": "display_data"
    }
   ],
   "source": [
    "def f(x):\n",
    "    val = x\n",
    "    valUp = val + 1\n",
    "\n",
    "    prediction = shallow_model.predict(test_dataset_X[val:valUp])[0][0]\n",
    "\n",
    "    print(\"For example prediction for the house\",x ,\"is\", prediction, \"and its real price is\", test_dataset_y[val:valUp].values[0])\n",
    "    print(\"The price difference is\", test_dataset_y[val:valUp].values[0] - prediction, \"$\")\n",
    "\n",
    "    plt.bar([\"Objective\", \"Prediction\"], [test_dataset_y[val:valUp].values[0], prediction])\n",
    "    plt.ylim([0,test_dataset_y.max()])\n",
    "\n",
    "\n",
    "\n",
    "\n",
    "lenTestset = len(test_dataset_X)-1\n",
    "interact(f, x=widgets.IntSlider(min=0, max=lenTestset, step=1, value=0))\n",
    "plt.show()\n"
   ]
  },
  {
   "cell_type": "markdown",
   "metadata": {},
   "source": [
    "## Deep Neural Networks"
   ]
  },
  {
   "cell_type": "markdown",
   "metadata": {},
   "source": [
    "explanations"
   ]
  },
  {
   "cell_type": "code",
   "execution_count": 32,
   "metadata": {},
   "outputs": [],
   "source": [
    "deep_model_long = keras.Sequential([\n",
    "      normalizer,\n",
    "      layers.Dense(128, activation='relu'),\n",
    "      layers.Dense(128, activation='relu'),\n",
    "      layers.Dense(128, activation='relu'),\n",
    "      layers.Dense(64, activation='relu'),\n",
    "      layers.Dense(1)\n",
    "  ])\n",
    "\n",
    "deep_model_long.compile(loss='mean_absolute_error',\n",
    "            optimizer=tf.keras.optimizers.Adam(0.001))"
   ]
  },
  {
   "cell_type": "code",
   "execution_count": 33,
   "metadata": {},
   "outputs": [
    {
     "name": "stdout",
     "output_type": "stream",
     "text": [
      "Model: \"sequential_2\"\n",
      "_________________________________________________________________\n",
      "Layer (type)                 Output Shape              Param #   \n",
      "=================================================================\n",
      "normalization (Normalization (None, 75)                151       \n",
      "_________________________________________________________________\n",
      "dense_6 (Dense)              (None, 128)               9728      \n",
      "_________________________________________________________________\n",
      "dense_7 (Dense)              (None, 128)               16512     \n",
      "_________________________________________________________________\n",
      "dense_8 (Dense)              (None, 128)               16512     \n",
      "_________________________________________________________________\n",
      "dense_9 (Dense)              (None, 64)                8256      \n",
      "_________________________________________________________________\n",
      "dense_10 (Dense)             (None, 1)                 65        \n",
      "=================================================================\n",
      "Total params: 51,224\n",
      "Trainable params: 51,073\n",
      "Non-trainable params: 151\n",
      "_________________________________________________________________\n"
     ]
    }
   ],
   "source": [
    "deep_model_long.summary()"
   ]
  },
  {
   "cell_type": "code",
   "execution_count": 34,
   "metadata": {},
   "outputs": [
    {
     "data": {
      "image/png": "[encoded data removed]",
      "text/plain": [
       "<IPython.core.display.Image object>"
      ]
     },
     "execution_count": 34,
     "metadata": {},
     "output_type": "execute_result"
    }
   ],
   "source": [
    "plot_model(deep_model_long, to_file='deep_model.png', show_shapes=True)"
   ]
  },
  {
   "cell_type": "code",
   "execution_count": 35,
   "metadata": {},
   "outputs": [
    {
     "name": "stdout",
     "output_type": "stream",
     "text": [
      "CPU times: user 1.25 s, sys: 562 ms, total: 1.81 s\n",
      "Wall time: 845 ms\n"
     ]
    }
   ],
   "source": [
    "%%time\n",
    "history = deep_model_long.fit(\n",
    "    train_dataset_X, train_dataset_y,\n",
    "    validation_split=0.2,\n",
    "    verbose=0, epochs=10)"
   ]
  },
  {
   "cell_type": "code",
   "execution_count": 36,
   "metadata": {
    "scrolled": true
   },
   "outputs": [
    {
     "data": {
      "image/png": "[encoded data removed]",
      "text/plain": [
       "<Figure size 432x288 with 1 Axes>"
      ]
     },
     "metadata": {
      "needs_background": "light"
     },
     "output_type": "display_data"
    }
   ],
   "source": [
    "plot_loss(history)"
   ]
  },
  {
   "cell_type": "code",
   "execution_count": 37,
   "metadata": {},
   "outputs": [
    {
     "name": "stdout",
     "output_type": "stream",
     "text": [
      "Error at testing is :  51800.203125\n",
      "Error at testing is :  48013.171875\n",
      "Error at testing is :  44218.5625\n",
      "Error at testing is :  41840.94921875\n",
      "Error at testing is :  40037.67578125\n",
      "Error at testing is :  38701.75\n",
      "Error at testing is :  37620.9609375\n",
      "Error at testing is :  37069.02734375\n",
      "Error at testing is :  36577.06640625\n",
      "Error at testing is :  36139.94921875\n",
      "Error at testing is :  36081.71484375\n",
      "Error at testing is :  36042.12890625\n",
      "Error at testing is :  35989.42578125\n",
      "Error at testing is :  36043.98828125\n",
      "Error at testing is :  36200.7421875\n",
      "Error at testing is :  36347.74609375\n",
      "Error at testing is :  35894.921875\n",
      "Error at testing is :  35795.0\n",
      "Error at testing is :  36585.34375\n",
      "Error at testing is :  36209.12890625\n",
      "Error at testing is :  36773.0\n",
      "Error at testing is :  36696.453125\n",
      "Error at testing is :  36864.89453125\n",
      "Error at testing is :  36974.84765625\n",
      "Error at testing is :  36816.921875\n",
      "Error at testing is :  37595.6953125\n",
      "Error at testing is :  38116.87890625\n",
      "Error at testing is :  38229.29296875\n",
      "Error at testing is :  38563.50390625\n"
     ]
    }
   ],
   "source": [
    "for i in range(1, 30):\n",
    "    \n",
    "    history = deep_model_long.fit(\n",
    "    train_dataset_X, train_dataset_y,\n",
    "    validation_split=0.2,\n",
    "    verbose=0, epochs=10)\n",
    "    \n",
    "    test_cost = deep_model_long.evaluate(\n",
    "    test_dataset_X, test_dataset_y, verbose=0)\n",
    "\n",
    "    print(\"Error at testing is : \", test_cost)"
   ]
  },
  {
   "cell_type": "code",
   "execution_count": 90,
   "metadata": {},
   "outputs": [],
   "source": [
    "deep_model = keras.Sequential([\n",
    "      normalizer,\n",
    "      layers.Dense(128, activation='relu'),\n",
    "      layers.Dense(64, activation='relu'),\n",
    "      layers.Dense(1)\n",
    "  ])\n",
    "\n",
    "deep_model.compile(loss='mean_absolute_error',\n",
    "            optimizer=tf.keras.optimizers.Adam(0.01))\n",
    "\n",
    "history = deep_model.fit(\n",
    "    train_dataset_X, train_dataset_y,\n",
    "    validation_split=0.2,\n",
    "    verbose=0, epochs=10)"
   ]
  },
  {
   "cell_type": "code",
   "execution_count": 91,
   "metadata": {},
   "outputs": [
    {
     "data": {
      "image/png": "[encoded data removed]",
      "text/plain": [
       "<Figure size 432x288 with 1 Axes>"
      ]
     },
     "metadata": {
      "needs_background": "light"
     },
     "output_type": "display_data"
    }
   ],
   "source": [
    "plot_loss(history)"
   ]
  },
  {
   "cell_type": "code",
   "execution_count": 92,
   "metadata": {},
   "outputs": [
    {
     "name": "stdout",
     "output_type": "stream",
     "text": [
      "Error at testing is :  56556.48046875\n",
      "Error at testing is :  50356.34375\n",
      "Error at testing is :  42198.4765625\n",
      "Error at testing is :  38547.3046875\n",
      "Error at testing is :  35081.08203125\n",
      "Error at testing is :  33722.5234375\n",
      "Error at testing is :  32987.45703125\n",
      "Error at testing is :  32905.4609375\n",
      "Error at testing is :  32238.66015625\n",
      "Error at testing is :  32131.05078125\n",
      "Error at testing is :  32417.828125\n"
     ]
    }
   ],
   "source": [
    "whileFlag = True\n",
    "upBoundary = 1000000000\n",
    "\n",
    "while whileFlag:\n",
    "    \n",
    "    history = deep_model.fit(\n",
    "    train_dataset_X, train_dataset_y,\n",
    "    validation_split=0.2,\n",
    "    verbose=0, epochs=10)\n",
    "    \n",
    "    test_cost = deep_model.evaluate(\n",
    "    test_dataset_X, test_dataset_y, verbose=0)\n",
    "\n",
    "    print(\"Error at testing is : \", test_cost)\n",
    "    if(upBoundary > test_cost):\n",
    "        upBoundary = test_cost\n",
    "    else: \n",
    "        whileFlag = False"
   ]
  },
  {
   "cell_type": "code",
   "execution_count": 125,
   "metadata": {},
   "outputs": [
    {
     "data": {
      "image/png": "[encoded data removed]",
      "text/plain": [
       "<Figure size 432x288 with 1 Axes>"
      ]
     },
     "metadata": {
      "needs_background": "light"
     },
     "output_type": "display_data"
    }
   ],
   "source": [
    "deep_model_short = keras.Sequential([\n",
    "      normalizer,\n",
    "      layers.Dense(64),\n",
    "      layers.Dense(1)\n",
    "  ])\n",
    "\n",
    "deep_model_short.compile(\n",
    "    loss='mean_absolute_error',\n",
    "    optimizer=tf.optimizers.Adam(learning_rate=0.005)\n",
    ")\n",
    "\n",
    "history = deep_model_short.fit(\n",
    "    train_dataset_X, train_dataset_y,\n",
    "    validation_split=0.2,\n",
    "    verbose=0, epochs=100)\n",
    "\n",
    "plot_loss(history)"
   ]
  },
  {
   "cell_type": "code",
   "execution_count": 126,
   "metadata": {
    "scrolled": true
   },
   "outputs": [
    {
     "name": "stdout",
     "output_type": "stream",
     "text": [
      "Cost is  149509.1796875 Error at testing is :  138854.984375\n",
      "\n",
      "Cost is  148388.8828125 Error at testing is :  137925.4375\n",
      "\n",
      "Cost is  147248.6171875 Error at testing is :  136976.59375\n",
      "\n",
      "Cost is  146121.3125 Error at testing is :  135930.140625\n",
      "\n",
      "Cost is  144960.015625 Error at testing is :  134932.171875\n",
      "\n",
      "Cost is  143800.3203125 Error at testing is :  133937.0625\n",
      "\n",
      "Cost is  142609.1796875 Error at testing is :  132887.390625\n",
      "\n",
      "Cost is  141421.5234375 Error at testing is :  131708.4375\n",
      "\n",
      "Cost is  140206.1640625 Error at testing is :  130613.3984375\n",
      "\n",
      "Cost is  138965.640625 Error at testing is :  129523.8203125\n",
      "\n",
      "Cost is  137724.9765625 Error at testing is :  128316.2734375\n",
      "\n",
      "Cost is  136466.96875 Error at testing is :  127154.4140625\n",
      "\n",
      "Cost is  135179.578125 Error at testing is :  125966.8515625\n",
      "\n",
      "Cost is  133891.5078125 Error at testing is :  124745.5078125\n",
      "\n",
      "Cost is  132567.2265625 Error at testing is :  123554.0546875\n",
      "\n",
      "Cost is  131251.08203125 Error at testing is :  122371.1484375\n",
      "\n",
      "Cost is  129931.4140625 Error at testing is :  121142.6875\n",
      "\n",
      "Cost is  128610.0078125 Error at testing is :  119981.4375\n",
      "\n",
      "Cost is  127253.9140625 Error at testing is :  118807.03125\n",
      "\n",
      "Cost is  125889.046875 Error at testing is :  117524.328125\n",
      "\n",
      "Cost is  124518.15625 Error at testing is :  116358.3984375\n",
      "\n",
      "Cost is  123121.2109375 Error at testing is :  115193.2734375\n",
      "\n",
      "Cost is  121705.7890625 Error at testing is :  113947.546875\n",
      "\n",
      "Cost is  120299.49609375 Error at testing is :  112710.09375\n",
      "\n",
      "Cost is  118876.5859375 Error at testing is :  111500.6328125\n",
      "\n",
      "Cost is  117444.7109375 Error at testing is :  110301.015625\n",
      "\n",
      "Cost is  115990.83203125 Error at testing is :  109051.9453125\n",
      "\n",
      "Cost is  114521.71484375 Error at testing is :  107809.7265625\n",
      "\n",
      "Cost is  113050.0234375 Error at testing is :  106628.953125\n",
      "\n",
      "Cost is  111579.80078125 Error at testing is :  105335.53125\n",
      "\n",
      "Cost is  110086.25 Error at testing is :  104080.4375\n",
      "\n",
      "Cost is  108598.0078125 Error at testing is :  102875.8125\n",
      "\n",
      "Cost is  107096.984375 Error at testing is :  101559.2265625\n",
      "\n",
      "Cost is  105588.40625 Error at testing is :  100233.90625\n",
      "\n",
      "Cost is  104086.71875 Error at testing is :  98917.5078125\n",
      "\n",
      "Cost is  102575.98828125 Error at testing is :  97605.1171875\n",
      "\n",
      "Cost is  101066.28125 Error at testing is :  96327.6484375\n",
      "\n",
      "Cost is  99532.140625 Error at testing is :  94897.4140625\n",
      "\n",
      "Cost is  98026.76953125 Error at testing is :  93557.4375\n",
      "\n",
      "Cost is  96507.515625 Error at testing is :  92281.25\n",
      "\n",
      "Cost is  94978.73828125 Error at testing is :  90903.46875\n",
      "\n",
      "Cost is  93438.16015625 Error at testing is :  89545.984375\n",
      "\n",
      "Cost is  91909.796875 Error at testing is :  88169.1796875\n",
      "\n",
      "Cost is  90352.77734375 Error at testing is :  86794.84375\n",
      "\n",
      "Cost is  88791.74609375 Error at testing is :  85370.53125\n",
      "\n",
      "Cost is  87221.01171875 Error at testing is :  84065.515625\n",
      "\n",
      "Cost is  85651.25 Error at testing is :  82667.4140625\n",
      "\n",
      "Cost is  84097.6640625 Error at testing is :  81299.6328125\n",
      "\n",
      "Cost is  82546.8515625 Error at testing is :  79909.890625\n",
      "\n",
      "Cost is  80997.40234375 Error at testing is :  78589.40625\n",
      "\n",
      "Cost is  79505.18359375 Error at testing is :  77224.9453125\n",
      "\n",
      "Cost is  78026.55859375 Error at testing is :  75849.59375\n",
      "\n",
      "Cost is  76567.59765625 Error at testing is :  74488.0\n",
      "\n",
      "Cost is  75121.19140625 Error at testing is :  73097.578125\n",
      "\n",
      "Cost is  73683.76171875 Error at testing is :  71778.234375\n",
      "\n",
      "Cost is  72240.53125 Error at testing is :  70441.7265625\n",
      "\n",
      "Cost is  70786.453125 Error at testing is :  68973.5859375\n",
      "\n",
      "Cost is  69343.4609375 Error at testing is :  67611.640625\n",
      "\n",
      "Cost is  67887.671875 Error at testing is :  66194.578125\n",
      "\n",
      "Cost is  66415.79296875 Error at testing is :  64783.65234375\n",
      "\n",
      "Cost is  64959.041015625 Error at testing is :  63243.828125\n",
      "\n",
      "Cost is  63511.400390625 Error at testing is :  61839.7734375\n",
      "\n",
      "Cost is  62058.49609375 Error at testing is :  60378.02734375\n",
      "\n",
      "Cost is  60606.94921875 Error at testing is :  58960.19921875\n",
      "\n",
      "Cost is  59141.814453125 Error at testing is :  57444.94140625\n",
      "\n",
      "Cost is  57668.080078125 Error at testing is :  55891.12890625\n",
      "\n",
      "Cost is  56216.283203125 Error at testing is :  54456.66796875\n",
      "\n",
      "Cost is  54766.544921875 Error at testing is :  52948.5703125\n",
      "\n",
      "Cost is  53319.138671875 Error at testing is :  51582.96875\n",
      "\n",
      "Cost is  51871.349609375 Error at testing is :  50071.4296875\n",
      "\n",
      "Cost is  50419.203125 Error at testing is :  48466.0703125\n",
      "\n",
      "Cost is  48988.751953125 Error at testing is :  46937.59765625\n",
      "\n",
      "Cost is  47534.3359375 Error at testing is :  45452.828125\n",
      "\n",
      "Cost is  46085.2890625 Error at testing is :  43958.17578125\n",
      "\n",
      "Cost is  44660.0625 Error at testing is :  42314.515625\n",
      "\n",
      "Cost is  43233.330078125 Error at testing is :  40767.25\n",
      "\n",
      "Cost is  41808.962890625 Error at testing is :  39275.2890625\n",
      "\n",
      "Cost is  40415.486328125 Error at testing is :  37765.4453125\n",
      "\n",
      "Cost is  39048.14453125 Error at testing is :  36346.4921875\n",
      "\n",
      "Cost is  37719.9921875 Error at testing is :  34941.625\n",
      "\n",
      "Cost is  36390.849609375 Error at testing is :  33593.453125\n",
      "\n",
      "Cost is  35109.548828125 Error at testing is :  32277.099609375\n",
      "\n",
      "Cost is  33848.818359375 Error at testing is :  30944.154296875\n",
      "\n",
      "Cost is  32646.822265625 Error at testing is :  29575.03515625\n",
      "\n",
      "Cost is  31461.7578125 Error at testing is :  28450.685546875\n",
      "\n",
      "Cost is  30309.5380859375 Error at testing is :  27197.228515625\n",
      "\n",
      "Cost is  29169.087890625 Error at testing is :  26068.46484375\n",
      "\n",
      "Cost is  28120.64453125 Error at testing is :  24969.890625\n",
      "\n",
      "Cost is  27135.578125 Error at testing is :  23911.39453125\n",
      "\n",
      "Cost is  26190.3779296875 Error at testing is :  22851.619140625\n",
      "\n",
      "Cost is  25340.0673828125 Error at testing is :  22060.75390625\n",
      "\n",
      "Cost is  24548.9775390625 Error at testing is :  21164.4140625\n",
      "\n",
      "Cost is  23790.044921875 Error at testing is :  20469.552734375\n",
      "\n",
      "Cost is  23111.00390625 Error at testing is :  19771.818359375\n",
      "\n",
      "Cost is  22488.3056640625 Error at testing is :  19319.603515625\n",
      "\n",
      "Cost is  21929.6240234375 Error at testing is :  18898.234375\n",
      "\n",
      "Cost is  21352.130859375 Error at testing is :  18591.994140625\n",
      "\n",
      "Cost is  20854.6513671875 Error at testing is :  18370.30859375\n",
      "\n",
      "Cost is  20419.806640625 Error at testing is :  18242.720703125\n",
      "\n",
      "Cost is  20043.6357421875 Error at testing is :  18036.47265625\n",
      "\n",
      "Cost is  19736.67578125 Error at testing is :  17963.40234375\n",
      "\n",
      "Cost is  19432.0615234375 Error at testing is :  17723.7109375\n",
      "\n",
      "Cost is  19155.333984375 Error at testing is :  17458.99609375\n",
      "\n",
      "Cost is  18898.640625 Error at testing is :  17117.87890625\n",
      "\n",
      "Cost is  18661.4169921875 Error at testing is :  17042.265625\n",
      "\n",
      "Cost is  18427.65625 Error at testing is :  17132.365234375\n",
      "\n"
     ]
    }
   ],
   "source": [
    "whileFlag = True\n",
    "upBoundary = 1000000000\n",
    "\n",
    "while whileFlag:\n",
    "    \n",
    "    history = deep_model_short.fit(\n",
    "    train_dataset_X, train_dataset_y,\n",
    "    validation_split=0.2,\n",
    "    verbose=0, epochs=2)\n",
    "    \n",
    "    test_cost = deep_model_short.evaluate(\n",
    "    test_dataset_X, test_dataset_y, verbose=0)\n",
    "\n",
    "\n",
    "    print(\"Cost is \", np.mean(history.history['loss']), \"Error at testing is : \", test_cost)\n",
    "    print()\n",
    "    if(upBoundary > test_cost):\n",
    "        upBoundary = test_cost\n",
    "    else: \n",
    "        whileFlag = False"
   ]
  },
  {
   "cell_type": "markdown",
   "metadata": {},
   "source": [
    "## TF utilities"
   ]
  },
  {
   "cell_type": "markdown",
   "metadata": {},
   "source": [
    "### Saving models"
   ]
  },
  {
   "cell_type": "code",
   "execution_count": null,
   "metadata": {},
   "outputs": [],
   "source": []
  },
  {
   "cell_type": "markdown",
   "metadata": {},
   "source": [
    "### Controlled Randomness"
   ]
  },
  {
   "cell_type": "code",
   "execution_count": null,
   "metadata": {},
   "outputs": [],
   "source": []
  }
 ],
 "metadata": {
  "kernelspec": {
   "display_name": "Python 3",
   "language": "python",
   "name": "python3"
  },
  "language_info": {
   "codemirror_mode": {
    "name": "ipython",
    "version": 3
   },
   "file_extension": ".py",
   "mimetype": "text/x-python",
   "name": "python",
   "nbconvert_exporter": "python",
   "pygments_lexer": "ipython3",
   "version": "3.9.5"
  }
 },
 "nbformat": 4,
 "nbformat_minor": 2
}