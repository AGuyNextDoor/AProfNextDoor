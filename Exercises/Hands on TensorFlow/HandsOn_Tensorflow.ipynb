{
 "cells": [
  {
   "cell_type": "code",
   "execution_count": 2,
   "metadata": {},
   "outputs": [],
   "source": [
    "#Data Manipulation Librairies\n",
    "import pandas as pd\n",
    "from pandas.plotting import scatter_matrix, andrews_curves\n",
    "from sklearn.model_selection import train_test_split\n",
    "\n",
    "#Calculation Utility Librairies\n",
    "import numpy as np\n",
    "import scipy.stats as st\n",
    "import scipy\n"
   ]
  },
  {
   "cell_type": "code",
   "execution_count": 6,
   "metadata": {},
   "outputs": [],
   "source": [
    "df_data = pd.read_csv(\"https://raw.githubusercontent.com/AGuyNextDoor/AProfNextDoor/main/Exercises/Hands%20on%20Machine%20Learning/house-prices-data/dataset.csv\")\n",
    "\n",
    "dataset = df_data.copy()"
   ]
  },
  {
   "cell_type": "markdown",
   "metadata": {},
   "source": [
    "## Separating Data"
   ]
  },
  {
   "cell_type": "code",
   "execution_count": 7,
   "metadata": {},
   "outputs": [],
   "source": [
    "# Write the separation here with sklearn train_test_split"
   ]
  },
  {
   "cell_type": "markdown",
   "metadata": {},
   "source": [
    "## Normalization"
   ]
  },
  {
   "cell_type": "markdown",
   "metadata": {},
   "source": [
    "Normalization can be added directy in our models so that we don't have to worry about it anymore !"
   ]
  },
  {
   "cell_type": "code",
   "execution_count": 10,
   "metadata": {},
   "outputs": [
    {
     "name": "stdout",
     "output_type": "stream",
     "text": [
      "[5.75727577e+01 3.03253508e+00 2.00055664e+02 1.05494443e+04\n",
      " 9.96575475e-01 1.94606161e+00 2.76626730e+00 8.56164377e-04\n",
      " 3.06678057e+00 6.07876703e-02 1.23202047e+01 2.03253388e+00\n",
      " 2.01027393e+00 4.88013774e-01 3.04794431e+00 6.15325212e+00\n",
      " 5.58647346e+00 1.97117981e+03 1.98508813e+03 1.40924621e+00\n",
      " 1.07619846e+00 9.56164265e+00 1.03047962e+01 1.76626718e+00\n",
      " 1.05862999e+02 2.52654076e+00 3.73544526e+00 1.39041102e+00\n",
      " 2.27911019e+00 2.83304763e+00 2.29623318e+00 2.82191706e+00\n",
      " 4.43898987e+02 4.74914455e+00 4.65042763e+01 5.75950378e+02\n",
      " 1.06635352e+03 1.03681505e+00 1.51369882e+00 9.34075296e-01\n",
      " 3.69948649e+00 1.16843384e+03 3.55280823e+02 6.92465782e+00\n",
      " 1.53063940e+03 4.29794461e-01 5.65068498e-02 1.56763673e+00\n",
      " 3.91267031e-01 2.86130071e+00 1.04708874e+00 2.32705450e+00\n",
      " 6.55308199e+00 5.76027489e+00 6.21575415e-01 3.77910924e+00\n",
      " 2.51712322e+00 1.88355994e+03 1.27825356e+00 1.78424644e+00\n",
      " 4.77242340e+02 3.93321848e+00 3.96575356e+00 1.86301351e+00\n",
      " 9.43647156e+01 4.70256767e+01 2.29571934e+01 3.96917820e+00\n",
      " 1.44280815e+01 3.01027393e+00 4.30993195e+01 6.36643839e+00\n",
      " 2.00781934e+03 7.48202133e+00 3.76112986e+00]\n"
     ]
    }
   ],
   "source": [
    "# Créer une couche de normlization\n",
    "from tensorflow.keras.layers.experimental import preprocessing"
   ]
  },
  {
   "cell_type": "markdown",
   "metadata": {},
   "source": [
    "## Deep Neural Networks"
   ]
  },
  {
   "cell_type": "code",
   "execution_count": null,
   "metadata": {},
   "outputs": [],
   "source": [
    "!pip install tensorboard"
   ]
  },
  {
   "cell_type": "code",
   "execution_count": 11,
   "metadata": {},
   "outputs": [],
   "source": [
    "import tensorflow as tf\n",
    "import datetime, os\n",
    "\n",
    "from keras import backend as K\n",
    "from keras.models import Sequential\n",
    "from keras.layers import Dense, Activation, Multiply\n",
    "from keras.callbacks import TensorBoard\n",
    "\n",
    "from tensorboard import notebook\n",
    "from tensorboard.plugins.hparams import api as hp\n",
    "\n",
    "%reload_ext tensorboard"
   ]
  },
  {
   "cell_type": "markdown",
   "metadata": {},
   "source": [
    "### Creating custom hyperparameter functions"
   ]
  },
  {
   "cell_type": "code",
   "execution_count": null,
   "metadata": {},
   "outputs": [],
   "source": [
    "#HParam et creation de la liste de parametres pour l'optimization"
   ]
  },
  {
   "cell_type": "code",
   "execution_count": 12,
   "metadata": {},
   "outputs": [],
   "source": [
    "### Creating models"
   ]
  },
  {
   "source": [
    "# Callback pour gerer le changement du learning rate lors de l'entrainement\n",
    "def lr_schedule(epoch):\n"
   ],
   "cell_type": "markdown",
   "metadata": {}
  },
  {
   "cell_type": "code",
   "execution_count": 13,
   "metadata": {},
   "outputs": [],
   "source": [
    "# Fonction pour créer un modèle\n",
    "# Dense : https://www.tensorflow.org/api_docs/python/tf/keras/layers/Dense\n",
    "# Dropout : https://www.tensorflow.org/api_docs/python/tf/keras/layers/Dropout\n",
    "\n",
    "def create_model():\n"
   ]
  },
  {
   "cell_type": "code",
   "execution_count": 14,
   "metadata": {},
   "outputs": [],
   "source": [
    "# Créer une fonction pour evaluer notre modèle\n",
    "\n",
    "def evaluate_tf():\n"
   ]
  },
  {
   "cell_type": "code",
   "execution_count": 2,
   "metadata": {
    "scrolled": true
   },
   "outputs": [],
   "source": [
    "# Lancer les entrainements!\n",
    "# Loop-Hell\n",
    "\n",
    "\n",
    "# Tensorboard setup\n",
    "tf.keras.backend.clear_session()\n",
    "\n",
    "!rm -rf ./logs/\n",
    "!rm -rf ./fit/\n",
    "\n",
    "session_num = 0\n",
    "run_name = \"logs/fit/\" + (\"run-%d\" % session_num)"
   ]
  },
  {
   "cell_type": "code",
   "execution_count": 16,
   "metadata": {},
   "outputs": [
    {
     "data": {
      "text/html": [
       "\n",
       "      <iframe id=\"tensorboard-frame-384506f3a68c53a9\" width=\"100%\" height=\"800\" frameborder=\"0\">\n",
       "      </iframe>\n",
       "      <script>\n",
       "        (function() {\n",
       "          const frame = document.getElementById(\"tensorboard-frame-384506f3a68c53a9\");\n",
       "          const url = new URL(\"/\", window.location);\n",
       "          const port = 6007;\n",
       "          if (port) {\n",
       "            url.port = port;\n",
       "          }\n",
       "          frame.src = url;\n",
       "        })();\n",
       "      </script>\n",
       "    "
      ],
      "text/plain": [
       "<IPython.core.display.HTML object>"
      ]
     },
     "metadata": {},
     "output_type": "display_data"
    }
   ],
   "source": [
    "# Visualisation avec Tensorboard\n",
    "\n",
    "%tensorboard --logdir logs"
   ]
  }
 ],
 "metadata": {
  "kernelspec": {
   "display_name": "Python 3",
   "language": "python",
   "name": "python3"
  },
  "language_info": {
   "codemirror_mode": {
    "name": "ipython",
    "version": 3
   },
   "file_extension": ".py",
   "mimetype": "text/x-python",
   "name": "python",
   "nbconvert_exporter": "python",
   "pygments_lexer": "ipython3",
   "version": "3.8.2"
  }
 },
 "nbformat": 4,
 "nbformat_minor": 2
}