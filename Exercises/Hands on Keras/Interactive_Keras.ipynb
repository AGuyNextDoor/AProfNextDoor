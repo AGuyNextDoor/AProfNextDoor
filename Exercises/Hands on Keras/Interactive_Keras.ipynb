{
 "cells": [
  {
   "cell_type": "code",
   "execution_count": 1,
   "metadata": {},
   "outputs": [],
   "source": [
    "from __future__ import print_function\n",
    "from ipywidgets import interact, interactive, fixed, interact_manual\n",
    "import ipywidgets as widgets"
   ]
  },
  {
   "cell_type": "code",
   "execution_count": 2,
   "metadata": {},
   "outputs": [],
   "source": [
    "import matplotlib.pyplot as plt\n",
    "import numpy as np\n",
    "import pandas as pd\n",
    "import seaborn as sns"
   ]
  },
  {
   "cell_type": "code",
   "execution_count": 3,
   "metadata": {},
   "outputs": [],
   "source": [
    "import tensorflow as tf\n",
    "from sklearn.model_selection import train_test_split\n",
    "\n",
    "from tensorflow import keras\n",
    "from tensorflow.keras import layers\n",
    "from tensorflow.keras.utils import plot_model\n",
    "from keras_visualizer import visualizer \n"
   ]
  },
  {
   "cell_type": "code",
   "execution_count": 4,
   "metadata": {},
   "outputs": [
    {
     "name": "stdout",
     "output_type": "stream",
     "text": [
      "2.5.0\n"
     ]
    }
   ],
   "source": [
    "print(tf.__version__)"
   ]
  },
  {
   "cell_type": "code",
   "execution_count": 5,
   "metadata": {},
   "outputs": [
    {
     "name": "stdout",
     "output_type": "stream",
     "text": [
      "HandsOn_Keras.stud.ipynb     model.png\r\n",
      "Interactive_Keras.stud.ipynb \u001b[1m\u001b[36mmy_dir\u001b[39;49m\u001b[0m\r\n",
      "beep-07.wav                  \u001b[1m\u001b[36msaving\u001b[39;49m\u001b[0m\r\n",
      "deep_model.png               shallow_model.png\r\n",
      "\u001b[1m\u001b[36mhouse-prices-data\u001b[39;49m\u001b[0m            test.ipynb\r\n",
      "\u001b[1m\u001b[36mlogs\u001b[39;49m\u001b[0m\r\n"
     ]
    }
   ],
   "source": [
    "!ls"
   ]
  },
  {
   "cell_type": "code",
   "execution_count": 6,
   "metadata": {},
   "outputs": [],
   "source": [
    "df_dataset = pd.read_csv(\"https://raw.githubusercontent.com/AGuyNextDoor/AProfNextDoor/main/Exercises/Hands%20on%20Machine%20Learning/house-prices-data/dataset.csv\")"
   ]
  },
  {
   "cell_type": "markdown",
   "metadata": {},
   "source": [
    "### Normalization with TensorFlow "
   ]
  },
  {
   "cell_type": "markdown",
   "metadata": {},
   "source": [
    "Normalization can be added directy in our models so that we don't have to worry about it anymore !"
   ]
  },
  {
   "cell_type": "code",
   "execution_count": 7,
   "metadata": {},
   "outputs": [],
   "source": [
    "from tensorflow.keras.layers.experimental import preprocessing\n",
    "\n",
    "def plot_loss(history):\n",
    "  plt.plot(history.history['loss'], label='loss')\n",
    "  plt.plot(history.history['val_loss'], label='val_loss')\n",
    "  plt.xlabel('Epoch')\n",
    "  plt.ylabel('Error J')\n",
    "  plt.legend()\n",
    "  plt.grid(True)"
   ]
  },
  {
   "cell_type": "code",
   "execution_count": 8,
   "metadata": {},
   "outputs": [],
   "source": [
    "import ipywidgets as widgets\n",
    "from ipywidgets import HBox, VBox, Label, Dropdown, Button, IntSlider, interact, Layout, Checkbox\n",
    "from IPython.display import clear_output\n"
   ]
  },
  {
   "cell_type": "code",
   "execution_count": 160,
   "metadata": {},
   "outputs": [],
   "source": [
    "X = df_dataset.drop(\"SalePrice\", axis=1)\n",
    "y = df_dataset[\"SalePrice\"]\n",
    "\n",
    "def generate_train_model(validation_size, normalizer_value, list_of_layers_size, loss_type, number_of_epochs, autostop_value):\n",
    "    \n",
    "    X_train, X_test, y_train, y_test = train_test_split(X, y, test_size=validation_size/100, random_state=42)\n",
    "\n",
    "    normalizer = preprocessing.Normalization()\n",
    "    normalizer.adapt(np.array(X_train))\n",
    "    \n",
    "    interactive_model_list = []\n",
    "    \n",
    "    if(normalizer_value): \n",
    "        interactive_model_list.append(normalizer)\n",
    "        \n",
    "    for layer_sizes in list_of_layers_size:\n",
    "        interactive_model_list.append(layers.Dense(layer_sizes, activation='relu'))\n",
    "        \n",
    "    interactive_model_list.append(layers.Dense(1))\n",
    "    \n",
    "    interactive_model = keras.Sequential(interactive_model_list)\n",
    "    \n",
    "    interactive_model.compile(\n",
    "        optimizer=tf.optimizers.Adam(learning_rate=0.1),\n",
    "        loss=loss_type)\n",
    "    \n",
    "\n",
    "    if(autostop_value):\n",
    "        epoch_counter = 0\n",
    "        lowest_score = np.Inf\n",
    "        counter = 0\n",
    "        convergence_count = 4\n",
    "        \n",
    "        epoch_fraction = int(number_of_epochs/100)\n",
    "        \n",
    "        if(number_of_epochs < 101):\n",
    "            epoch_fraction = 10\n",
    "        \n",
    "        \n",
    "        class HistoryClass():\n",
    "            \n",
    "            def __init__(self):\n",
    "                self.history = {\n",
    "                    'loss': [],\n",
    "                    'val_loss': []\n",
    "                }\n",
    "                \n",
    "                \n",
    "        history = HistoryClass()\n",
    "        \n",
    "        while(epoch_counter <= number_of_epochs and convergence_count > 0):\n",
    "\n",
    "            semi_history = interactive_model.fit(\n",
    "                X_train, \n",
    "                y_train,\n",
    "                epochs=epoch_fraction,\n",
    "                verbose=0,\n",
    "                validation_split = validation_size\n",
    "            )\n",
    "            \n",
    "            history.history['loss'] = history.history['loss'] + semi_history.history['loss']\n",
    "            history.history['val_loss'] = history.history['val_loss'] + semi_history.history['val_loss']\n",
    "            \n",
    "\n",
    "            if(lowest_score > np.min(semi_history.history['val_loss'])):\n",
    "                lowest_score = np.min(semi_history.history['val_loss'])\n",
    "            else : \n",
    "                convergence_count = convergence_count - 1\n",
    "\n",
    "            epoch_counter += epoch_fraction\n",
    "        \n",
    "    else :\n",
    "        history = interactive_model.fit(\n",
    "            X_train, \n",
    "            y_train,\n",
    "            epochs=number_of_epochs,\n",
    "            verbose=0,\n",
    "            validation_split = validation_size\n",
    "        )\n",
    "    \n",
    "    score = interactive_model.evaluate(X_test, y_test)\n",
    "    \n",
    "    plot_loss(history)\n",
    "    \n",
    "    print(\"Score on test dataset : \", interactive_model.evaluate(X_test, y_test))\n",
    "\n",
    "    prediction = interactive_model.predict(X_test) - y_test.values\n",
    "    average_diff = np.mean(np.abs(prediction))\n",
    "    \n",
    "    print(\"Average dollar difference : \", average_diff)\n",
    "    \n",
    "    \n",
    "    "
   ]
  },
  {
   "cell_type": "code",
   "execution_count": 161,
   "metadata": {
    "scrolled": false
   },
   "outputs": [
    {
     "data": {
      "application/vnd.jupyter.widget-view+json": {
       "model_id": "6b1cacd425ef44628dbcf2a87cf9a75f",
       "version_major": 2,
       "version_minor": 0
      },
      "text/plain": [
       "HBox(children=(VBox(children=(Label(value='% of training'), IntSlider(value=70, max=99, min=1, orientation='ve…"
      ]
     },
     "metadata": {},
     "output_type": "display_data"
    },
    {
     "name": "stdout",
     "output_type": "stream",
     "text": [
      "1/1 [==============================] - 0s 11ms/step - loss: 10274.4346\n",
      "1/1 [==============================] - 0s 12ms/step - loss: 10274.4346\n",
      "Score on test dataset :  10274.4345703125\n",
      "Average dollar difference :  97253.9365625\n"
     ]
    },
    {
     "data": {
      "image/png": "[encoded data removed]",
      "text/plain": [
       "<Figure size 432x288 with 1 Axes>"
      ]
     },
     "metadata": {
      "needs_background": "light"
     },
     "output_type": "display_data"
    }
   ],
   "source": [
    "dataset_division = IntSlider(\n",
    "  min=1,\n",
    "  max=99,\n",
    "  value=70, #Default value\n",
    "  style={'description_width': 'initial'},\n",
    "  orientation='vertical'\n",
    ")\n",
    "\n",
    "def map_not_in_place(l, fn):\n",
    "    for i in range(len(l)):\n",
    "        fn(l[i])\n",
    "\n",
    "layers_nodes = [16, 32, 64, 128]\n",
    "\n",
    "normalizer_dropdown = Dropdown(\n",
    "   options=[True, False],\n",
    "   value=True,\n",
    "   description='Normalizer',\n",
    "   disabled=False,\n",
    "   style={'width': 'small'}\n",
    ")\n",
    "\n",
    "layer_1 = Dropdown(\n",
    "   options=layers_nodes,\n",
    "   value=layers_nodes[2],\n",
    "   description='Layer 1',\n",
    "   disabled=False,\n",
    "   style={'description_width': ''}\n",
    ")\n",
    "\n",
    "layer_2 = Dropdown(\n",
    "   options=layers_nodes,\n",
    "   value=layers_nodes[2],\n",
    "   description='Layer 2',\n",
    "   disabled=False,\n",
    "   style={'description_width': ''}\n",
    ")\n",
    "\n",
    "layer_3 = Dropdown(\n",
    "   options=layers_nodes,\n",
    "   value=layers_nodes[2],\n",
    "   description='Layer 3',\n",
    "   disabled=False,\n",
    "   style={'description_width': ''}\n",
    ")\n",
    "\n",
    "layer_4 = Dropdown(\n",
    "   options=layers_nodes,\n",
    "   value=layers_nodes[2],\n",
    "   description='Layer 4',\n",
    "   disabled=False,\n",
    "   style={'description_width': ''}\n",
    ")\n",
    "\n",
    "def button_layer_disabler(event):\n",
    "\n",
    "    index = int(event.description[0])\n",
    "    \n",
    "    if(event.button_style == 'danger'):\n",
    "        event.button_style = 'success'\n",
    "        event.description = str(index)+\": Active\" \n",
    "    else: \n",
    "        event.button_style = 'danger'\n",
    "        event.description = str(index)+\": Inactive\" \n",
    "\n",
    "disabler_blank = Button(\n",
    "   description='',\n",
    "   button_style='', # 'success', 'info', 'warning', 'danger' or '',\n",
    "   disabled=True,\n",
    ")\n",
    "\n",
    "disabler_1 = Button(\n",
    "   description='1: Active',\n",
    "   button_style='success', # 'success', 'info', 'warning', 'danger' or ''\n",
    "   disabled=False,\n",
    ")\n",
    "disabler_2 = Button(\n",
    "   description='2: Active',\n",
    "   button_style='success', # 'success', 'info', 'warning', 'danger' or ''\n",
    ")\n",
    "disabler_3 = Button(\n",
    "   description='3: Active',\n",
    "   button_style='success', # 'success', 'info', 'warning', 'danger' or ''\n",
    ")\n",
    "disabler_4 = Button(\n",
    "   description='4: Active',\n",
    "   button_style='success', # 'success', 'info', 'warning', 'danger' or ''\n",
    ")\n",
    "\n",
    "list_of_drops = [normalizer_dropdown, layer_1, layer_2, layer_3, layer_4]\n",
    "list_of_buttons = [disabler_blank, disabler_1, disabler_2, disabler_3, disabler_4]\n",
    "\n",
    "map_not_in_place(list_of_buttons, lambda x : x.on_click(button_layer_disabler) )\n",
    "\n",
    "loss_list = [\"mean_squared_error\", \"mean_absolute_error\", 'mean_absolute_percentage_error', 'mean_squared_logarithmic_error']\n",
    "\n",
    "loss_dropdowns = Dropdown(\n",
    "   options= loss_list,\n",
    "   value=loss_list[0],\n",
    "   description='',\n",
    "   disabled=False,\n",
    "   style={'width': '50px'}\n",
    ")\n",
    "\n",
    "number_of_max_epochs = IntSlider(\n",
    "  min=1,\n",
    "  max=2000,\n",
    "  value=1000, #Default value\n",
    "    step=10,\n",
    "  style={'description_width': 'initial'},\n",
    ")\n",
    "\n",
    "autostop_checkbox = Checkbox(\n",
    "    value=True,\n",
    "    description=\"Auto stop training when convergence\"\n",
    ")\n",
    "\n",
    "generate_button = widgets.Button(\n",
    "   description='GENERATE',\n",
    "   button_style='info', # 'success', 'info', 'warning', 'danger' or ''\n",
    "   layout= Layout(display='flex',\n",
    "                    margin=\"10%\",\n",
    "                    text='center'\n",
    "                 )\n",
    ")\n",
    "loading_label = Label(\"\", button_style=\"info\")\n",
    "\n",
    "def link_to_generation(event):\n",
    "    \n",
    "    loading_label.value = \"Training...\"\n",
    "\n",
    "    ################\n",
    "\n",
    "    validation_size = (100 - dataset_division.value)/100\n",
    "    \n",
    "    ################\n",
    "    \n",
    "    normalizer_value = normalizer_dropdown.value\n",
    "    \n",
    "    ################\n",
    "    \n",
    "    list_of_layers_size = []\n",
    "    \n",
    "    for index in range(0, len(list_of_buttons)):\n",
    "        if(list_of_buttons[index].button_style == 'success'):\n",
    "            list_of_layers_size.append(list_of_drops[index].value)\n",
    "            \n",
    "    ################\n",
    "    \n",
    "    loss_type = loss_dropdowns.value\n",
    "    \n",
    "    ################\n",
    "\n",
    "    number_of_epochs = number_of_max_epochs.value\n",
    "    \n",
    "    \n",
    "    ################\n",
    "    \n",
    "    autostop_value = autostop_checkbox.value\n",
    "    \n",
    "    generate_train_model(validation_size, normalizer_value, list_of_layers_size, loss_type, number_of_epochs, autostop_value)\n",
    "    \n",
    "    loading_label.value = \"Done!\"\n",
    "\n",
    "generate_button.on_click(link_to_generation)\n",
    "\n",
    "vertical_drops = VBox(list_of_drops)\n",
    "vertical_buttons = VBox(list_of_buttons)\n",
    "\n",
    "def box_layout_width(wid): \n",
    "    return Layout(display='flex',\n",
    "                    padding=\"1%\",\n",
    "                    flex_flow='column',\n",
    "                    align_items='center',\n",
    "                    border='solid',\n",
    "                    width= str(wid)+'%'\n",
    "                 )\n",
    "\n",
    "first_column = VBox([Label('% of training'), dataset_division], layout=box_layout_width(12))\n",
    "second_column = VBox([Label('Number of nodes per Layer'), HBox([vertical_drops, vertical_buttons])], layout=box_layout_width(55))\n",
    "third_column = VBox([Label('Types of Losses'), loss_dropdowns, Label('Number of Epochs'),number_of_max_epochs,autostop_checkbox, generate_button, loading_label], layout=box_layout_width(35))\n",
    "\n",
    "HBox([first_column, second_column, third_column])"
   ]
  },
  {
   "cell_type": "code",
   "execution_count": null,
   "metadata": {},
   "outputs": [],
   "source": []
  },
  {
   "cell_type": "code",
   "execution_count": null,
   "metadata": {},
   "outputs": [],
   "source": []
  },
  {
   "cell_type": "code",
   "execution_count": null,
   "metadata": {},
   "outputs": [],
   "source": []
  }
 ],
 "metadata": {
  "kernelspec": {
   "display_name": "Python 3",
   "language": "python",
   "name": "python3"
  },
  "language_info": {
   "codemirror_mode": {
    "name": "ipython",
    "version": 3
   },
   "file_extension": ".py",
   "mimetype": "text/x-python",
   "name": "python",
   "nbconvert_exporter": "python",
   "pygments_lexer": "ipython3",
   "version": "3.9.5"
  }
 },
 "nbformat": 4,
 "nbformat_minor": 2
}
