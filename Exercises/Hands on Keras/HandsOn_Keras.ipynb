{
 "cells": [
  {
   "cell_type": "code",
   "execution_count": 1,
   "metadata": {},
   "outputs": [],
   "source": [
    "from __future__ import print_function\n",
    "from ipywidgets import interact, interactive, fixed, interact_manual\n",
    "import ipywidgets as widgets"
   ]
  },
  {
   "cell_type": "code",
   "execution_count": null,
   "metadata": {},
   "outputs": [],
   "source": [
    "!pip install keras_visualizer"
   ]
  },
  {
   "cell_type": "code",
   "execution_count": 2,
   "metadata": {},
   "outputs": [],
   "source": [
    "import matplotlib.pyplot as plt\n",
    "import numpy as np\n",
    "import pandas as pd\n",
    "import seaborn as sns"
   ]
  },
  {
   "cell_type": "code",
   "execution_count": 3,
   "metadata": {},
   "outputs": [],
   "source": [
    "import tensorflow as tf\n",
    "import os\n",
    "\n",
    "from tensorflow import keras\n",
    "from tensorflow.keras import layers\n",
    "from tensorflow.keras.utils import plot_model\n",
    "from keras_visualizer import visualizer "
   ]
  },
  {
   "cell_type": "code",
   "execution_count": 4,
   "metadata": {},
   "outputs": [
    {
     "name": "stdout",
     "output_type": "stream",
     "text": [
      "2.5.0\n"
     ]
    }
   ],
   "source": [
    "print(tf.__version__)"
   ]
  },
  {
   "cell_type": "code",
   "execution_count": 6,
   "metadata": {},
   "outputs": [],
   "source": [
    "df_dataset = pd.read_csv(\"https://raw.githubusercontent.com/AGuyNextDoor/AProfNextDoor/main/Exercises/Hands%20on%20Machine%20Learning/house-prices-data/dataset.csv\")"
   ]
  },
  {
   "cell_type": "markdown",
   "metadata": {},
   "source": [
    "## Separating Data"
   ]
  },
  {
   "cell_type": "code",
   "execution_count": 7,
   "metadata": {},
   "outputs": [],
   "source": [
    "train_dataset = df_dataset.sample(frac=0.8, random_state=0)\n",
    "test_dataset = df_dataset.drop(train_dataset.index)\n",
    "\n",
    "dataset_X = df_dataset.drop([\"Id\",\"SalePrice\"], axis = 1)\n",
    "dataset_id = df_dataset[\"Id\"]\n",
    "dataset_y = df_dataset[\"SalePrice\"]\n",
    "\n",
    "train_dataset_X = train_dataset.drop([\"Id\",\"SalePrice\"], axis = 1)\n",
    "train_dataset_id = train_dataset[\"Id\"]\n",
    "train_dataset_y = train_dataset[\"SalePrice\"]\n",
    "\n",
    "test_dataset_X = test_dataset.drop([\"Id\",\"SalePrice\"], axis = 1)\n",
    "test_dataset_id = test_dataset[\"Id\"]\n",
    "test_dataset_y = test_dataset[\"SalePrice\"]\n",
    "\n",
    "# or use the train_test splitter from scikit learn\n",
    "\n",
    "# Write the example here with sklearn"
   ]
  },
  {
   "cell_type": "code",
   "execution_count": 8,
   "metadata": {},
   "outputs": [
    {
     "name": "stdout",
     "output_type": "stream",
     "text": [
      "Training dataset has 1168 values.\n",
      "Testing dataset has 292 values.\n"
     ]
    }
   ],
   "source": [
    "print(\"Training dataset has\", len(train_dataset_X), \"values.\")\n",
    "print(\"Testing dataset has\", len(test_dataset_X), \"values.\")"
   ]
  },
  {
   "cell_type": "markdown",
   "metadata": {},
   "source": [
    "## Normalization"
   ]
  },
  {
   "cell_type": "markdown",
   "metadata": {},
   "source": [
    "La normalisation est une transformation de la donnée qui permet de \"normaliser\" la moyenne et la deviation standard d'une distribution. Pour cela on déplace chaque valeur par l'écart et divisant par la déviation standard. Cela permet de ne pas avoir de valeurs trop de difference entre les differentes features de notre dataset et permet aussi de rendre notre convergence plus stable pour nos modèles. "
   ]
  },
  {
   "cell_type": "code",
   "execution_count": 9,
   "metadata": {},
   "outputs": [
    {
     "data": {
      "text/html": [
       "<div>\n",
       "<style scoped>\n",
       "    .dataframe tbody tr th:only-of-type {\n",
       "        vertical-align: middle;\n",
       "    }\n",
       "\n",
       "    .dataframe tbody tr th {\n",
       "        vertical-align: top;\n",
       "    }\n",
       "\n",
       "    .dataframe thead th {\n",
       "        text-align: right;\n",
       "    }\n",
       "</style>\n",
       "<table border=\"1\" class=\"dataframe\">\n",
       "  <thead>\n",
       "    <tr style=\"text-align: right;\">\n",
       "      <th></th>\n",
       "      <th>mean</th>\n",
       "      <th>std</th>\n",
       "    </tr>\n",
       "  </thead>\n",
       "  <tbody>\n",
       "    <tr>\n",
       "      <th>Id</th>\n",
       "      <td>730.949486</td>\n",
       "      <td>421.221360</td>\n",
       "    </tr>\n",
       "    <tr>\n",
       "      <th>MSSubClass</th>\n",
       "      <td>57.572774</td>\n",
       "      <td>42.053072</td>\n",
       "    </tr>\n",
       "    <tr>\n",
       "      <th>MSZoning</th>\n",
       "      <td>3.032534</td>\n",
       "      <td>0.631075</td>\n",
       "    </tr>\n",
       "    <tr>\n",
       "      <th>LotFrontage</th>\n",
       "      <td>200.055651</td>\n",
       "      <td>3121.409754</td>\n",
       "    </tr>\n",
       "    <tr>\n",
       "      <th>LotArea</th>\n",
       "      <td>10549.443493</td>\n",
       "      <td>9906.540386</td>\n",
       "    </tr>\n",
       "    <tr>\n",
       "      <th>...</th>\n",
       "      <td>...</td>\n",
       "      <td>...</td>\n",
       "    </tr>\n",
       "    <tr>\n",
       "      <th>MoSold</th>\n",
       "      <td>6.366438</td>\n",
       "      <td>2.701544</td>\n",
       "    </tr>\n",
       "    <tr>\n",
       "      <th>YrSold</th>\n",
       "      <td>2007.819349</td>\n",
       "      <td>1.318539</td>\n",
       "    </tr>\n",
       "    <tr>\n",
       "      <th>SaleType</th>\n",
       "      <td>7.482021</td>\n",
       "      <td>1.585502</td>\n",
       "    </tr>\n",
       "    <tr>\n",
       "      <th>SaleCondition</th>\n",
       "      <td>3.761130</td>\n",
       "      <td>1.134621</td>\n",
       "    </tr>\n",
       "    <tr>\n",
       "      <th>SalePrice</th>\n",
       "      <td>183474.327911</td>\n",
       "      <td>81395.422704</td>\n",
       "    </tr>\n",
       "  </tbody>\n",
       "</table>\n",
       "<p>77 rows × 2 columns</p>\n",
       "</div>"
      ],
      "text/plain": [
       "                        mean           std\n",
       "Id                730.949486    421.221360\n",
       "MSSubClass         57.572774     42.053072\n",
       "MSZoning            3.032534      0.631075\n",
       "LotFrontage       200.055651   3121.409754\n",
       "LotArea         10549.443493   9906.540386\n",
       "...                      ...           ...\n",
       "MoSold              6.366438      2.701544\n",
       "YrSold           2007.819349      1.318539\n",
       "SaleType            7.482021      1.585502\n",
       "SaleCondition       3.761130      1.134621\n",
       "SalePrice      183474.327911  81395.422704\n",
       "\n",
       "[77 rows x 2 columns]"
      ]
     },
     "execution_count": 9,
     "metadata": {},
     "output_type": "execute_result"
    }
   ],
   "source": [
    "train_dataset.describe().transpose()[['mean', 'std']]"
   ]
  },
  {
   "cell_type": "markdown",
   "metadata": {},
   "source": [
    "### The 'old' way : Pandas"
   ]
  },
  {
   "cell_type": "code",
   "execution_count": 10,
   "metadata": {},
   "outputs": [],
   "source": [
    "def normalize(x, mean, std): \n",
    "    return ((x-mean)/std)"
   ]
  },
  {
   "cell_type": "code",
   "execution_count": 11,
   "metadata": {},
   "outputs": [],
   "source": [
    "def normalizeColumn(df, colName):\n",
    "    meanVal = df[colName].mean()\n",
    "    stdVal = df[colName].std()\n",
    "    print(meanVal, stdVal)\n",
    "\n",
    "    newCol = df[colName].apply(lambda x: normalize(x,meanVal, stdVal))\n",
    "    newMean = newCol.mean()\n",
    "    newStd = newCol.std()\n",
    "    print(newMean, newStd)\n",
    "    \n",
    "    return newCol"
   ]
  },
  {
   "cell_type": "code",
   "execution_count": 12,
   "metadata": {},
   "outputs": [
    {
     "name": "stdout",
     "output_type": "stream",
     "text": [
      "3.0287671232876714 0.6320174410566584\n",
      "-2.822704018773001e-16 0.9999999999999998\n"
     ]
    },
    {
     "data": {
      "text/plain": [
       "0      -0.045516\n",
       "1      -0.045516\n",
       "2      -0.045516\n",
       "3      -0.045516\n",
       "4      -0.045516\n",
       "          ...   \n",
       "1455   -0.045516\n",
       "1456   -0.045516\n",
       "1457   -0.045516\n",
       "1458   -0.045516\n",
       "1459   -0.045516\n",
       "Name: MSZoning, Length: 1460, dtype: float64"
      ]
     },
     "execution_count": 12,
     "metadata": {},
     "output_type": "execute_result"
    }
   ],
   "source": [
    "normalizeColumn(dataset_X, \"MSZoning\")"
   ]
  },
  {
   "cell_type": "markdown",
   "metadata": {},
   "source": [
    "We can transform the complete dataset with a simple line"
   ]
  },
  {
   "cell_type": "code",
   "execution_count": 13,
   "metadata": {},
   "outputs": [
    {
     "data": {
      "text/html": [
       "<div>\n",
       "<style scoped>\n",
       "    .dataframe tbody tr th:only-of-type {\n",
       "        vertical-align: middle;\n",
       "    }\n",
       "\n",
       "    .dataframe tbody tr th {\n",
       "        vertical-align: top;\n",
       "    }\n",
       "\n",
       "    .dataframe thead th {\n",
       "        text-align: right;\n",
       "    }\n",
       "</style>\n",
       "<table border=\"1\" class=\"dataframe\">\n",
       "  <thead>\n",
       "    <tr style=\"text-align: right;\">\n",
       "      <th></th>\n",
       "      <th>MSSubClass</th>\n",
       "      <th>MSZoning</th>\n",
       "      <th>LotFrontage</th>\n",
       "      <th>LotArea</th>\n",
       "      <th>Street</th>\n",
       "      <th>LotShape</th>\n",
       "      <th>LandContour</th>\n",
       "      <th>Utilities</th>\n",
       "      <th>LotConfig</th>\n",
       "      <th>LandSlope</th>\n",
       "      <th>...</th>\n",
       "      <th>OpenPorchSF</th>\n",
       "      <th>EnclosedPorch</th>\n",
       "      <th>3SsnPorch</th>\n",
       "      <th>ScreenPorch</th>\n",
       "      <th>PoolArea</th>\n",
       "      <th>MiscVal</th>\n",
       "      <th>MoSold</th>\n",
       "      <th>YrSold</th>\n",
       "      <th>SaleType</th>\n",
       "      <th>SaleCondition</th>\n",
       "    </tr>\n",
       "  </thead>\n",
       "  <tbody>\n",
       "    <tr>\n",
       "      <th>0</th>\n",
       "      <td>58.654929</td>\n",
       "      <td>-1.792221</td>\n",
       "      <td>64.943808</td>\n",
       "      <td>8448.946343</td>\n",
       "      <td>-14.561727</td>\n",
       "      <td>1.62154</td>\n",
       "      <td>-0.92473</td>\n",
       "      <td>-0.026171</td>\n",
       "      <td>2.139336</td>\n",
       "      <td>-0.225639</td>\n",
       "      <td>...</td>\n",
       "      <td>60.295758</td>\n",
       "      <td>-0.359202</td>\n",
       "      <td>-0.116299</td>\n",
       "      <td>-0.270116</td>\n",
       "      <td>-0.068668</td>\n",
       "      <td>-0.087658</td>\n",
       "      <td>-0.338311</td>\n",
       "      <td>496.198833</td>\n",
       "      <td>3.159453</td>\n",
       "      <td>0.57489</td>\n",
       "    </tr>\n",
       "    <tr>\n",
       "      <th>1</th>\n",
       "      <td>18.654929</td>\n",
       "      <td>-1.792221</td>\n",
       "      <td>79.943808</td>\n",
       "      <td>9598.946343</td>\n",
       "      <td>-14.561727</td>\n",
       "      <td>1.62154</td>\n",
       "      <td>-0.92473</td>\n",
       "      <td>-0.026171</td>\n",
       "      <td>0.139336</td>\n",
       "      <td>-0.225639</td>\n",
       "      <td>...</td>\n",
       "      <td>-0.704242</td>\n",
       "      <td>-0.359202</td>\n",
       "      <td>-0.116299</td>\n",
       "      <td>-0.270116</td>\n",
       "      <td>-0.068668</td>\n",
       "      <td>-0.087658</td>\n",
       "      <td>2.661689</td>\n",
       "      <td>495.198833</td>\n",
       "      <td>3.159453</td>\n",
       "      <td>0.57489</td>\n",
       "    </tr>\n",
       "    <tr>\n",
       "      <th>2</th>\n",
       "      <td>58.654929</td>\n",
       "      <td>-1.792221</td>\n",
       "      <td>67.943808</td>\n",
       "      <td>11248.946343</td>\n",
       "      <td>-14.561727</td>\n",
       "      <td>-1.37846</td>\n",
       "      <td>-0.92473</td>\n",
       "      <td>-0.026171</td>\n",
       "      <td>2.139336</td>\n",
       "      <td>-0.225639</td>\n",
       "      <td>...</td>\n",
       "      <td>41.295758</td>\n",
       "      <td>-0.359202</td>\n",
       "      <td>-0.116299</td>\n",
       "      <td>-0.270116</td>\n",
       "      <td>-0.068668</td>\n",
       "      <td>-0.087658</td>\n",
       "      <td>6.661689</td>\n",
       "      <td>496.198833</td>\n",
       "      <td>3.159453</td>\n",
       "      <td>0.57489</td>\n",
       "    </tr>\n",
       "    <tr>\n",
       "      <th>3</th>\n",
       "      <td>68.654929</td>\n",
       "      <td>-1.792221</td>\n",
       "      <td>59.943808</td>\n",
       "      <td>9548.946343</td>\n",
       "      <td>-14.561727</td>\n",
       "      <td>-1.37846</td>\n",
       "      <td>-0.92473</td>\n",
       "      <td>-0.026171</td>\n",
       "      <td>-1.860664</td>\n",
       "      <td>-0.225639</td>\n",
       "      <td>...</td>\n",
       "      <td>34.295758</td>\n",
       "      <td>271.640798</td>\n",
       "      <td>-0.116299</td>\n",
       "      <td>-0.270116</td>\n",
       "      <td>-0.068668</td>\n",
       "      <td>-0.087658</td>\n",
       "      <td>-0.338311</td>\n",
       "      <td>494.198833</td>\n",
       "      <td>3.159453</td>\n",
       "      <td>-3.42511</td>\n",
       "    </tr>\n",
       "    <tr>\n",
       "      <th>4</th>\n",
       "      <td>58.654929</td>\n",
       "      <td>-1.792221</td>\n",
       "      <td>83.943808</td>\n",
       "      <td>14258.946343</td>\n",
       "      <td>-14.561727</td>\n",
       "      <td>-1.37846</td>\n",
       "      <td>-0.92473</td>\n",
       "      <td>-0.026171</td>\n",
       "      <td>0.139336</td>\n",
       "      <td>-0.225639</td>\n",
       "      <td>...</td>\n",
       "      <td>83.295758</td>\n",
       "      <td>-0.359202</td>\n",
       "      <td>-0.116299</td>\n",
       "      <td>-0.270116</td>\n",
       "      <td>-0.068668</td>\n",
       "      <td>-0.087658</td>\n",
       "      <td>9.661689</td>\n",
       "      <td>496.198833</td>\n",
       "      <td>3.159453</td>\n",
       "      <td>0.57489</td>\n",
       "    </tr>\n",
       "    <tr>\n",
       "      <th>...</th>\n",
       "      <td>...</td>\n",
       "      <td>...</td>\n",
       "      <td>...</td>\n",
       "      <td>...</td>\n",
       "      <td>...</td>\n",
       "      <td>...</td>\n",
       "      <td>...</td>\n",
       "      <td>...</td>\n",
       "      <td>...</td>\n",
       "      <td>...</td>\n",
       "      <td>...</td>\n",
       "      <td>...</td>\n",
       "      <td>...</td>\n",
       "      <td>...</td>\n",
       "      <td>...</td>\n",
       "      <td>...</td>\n",
       "      <td>...</td>\n",
       "      <td>...</td>\n",
       "      <td>...</td>\n",
       "      <td>...</td>\n",
       "      <td>...</td>\n",
       "    </tr>\n",
       "    <tr>\n",
       "      <th>1455</th>\n",
       "      <td>58.654929</td>\n",
       "      <td>-1.792221</td>\n",
       "      <td>61.943808</td>\n",
       "      <td>7915.946343</td>\n",
       "      <td>-14.561727</td>\n",
       "      <td>1.62154</td>\n",
       "      <td>-0.92473</td>\n",
       "      <td>-0.026171</td>\n",
       "      <td>2.139336</td>\n",
       "      <td>-0.225639</td>\n",
       "      <td>...</td>\n",
       "      <td>39.295758</td>\n",
       "      <td>-0.359202</td>\n",
       "      <td>-0.116299</td>\n",
       "      <td>-0.270116</td>\n",
       "      <td>-0.068668</td>\n",
       "      <td>-0.087658</td>\n",
       "      <td>5.661689</td>\n",
       "      <td>495.198833</td>\n",
       "      <td>3.159453</td>\n",
       "      <td>0.57489</td>\n",
       "    </tr>\n",
       "    <tr>\n",
       "      <th>1456</th>\n",
       "      <td>18.654929</td>\n",
       "      <td>-1.792221</td>\n",
       "      <td>84.943808</td>\n",
       "      <td>13173.946343</td>\n",
       "      <td>-14.561727</td>\n",
       "      <td>1.62154</td>\n",
       "      <td>-0.92473</td>\n",
       "      <td>-0.026171</td>\n",
       "      <td>2.139336</td>\n",
       "      <td>-0.225639</td>\n",
       "      <td>...</td>\n",
       "      <td>-0.704242</td>\n",
       "      <td>-0.359202</td>\n",
       "      <td>-0.116299</td>\n",
       "      <td>-0.270116</td>\n",
       "      <td>-0.068668</td>\n",
       "      <td>-0.087658</td>\n",
       "      <td>-0.338311</td>\n",
       "      <td>498.198833</td>\n",
       "      <td>3.159453</td>\n",
       "      <td>0.57489</td>\n",
       "    </tr>\n",
       "    <tr>\n",
       "      <th>1457</th>\n",
       "      <td>68.654929</td>\n",
       "      <td>-1.792221</td>\n",
       "      <td>65.943808</td>\n",
       "      <td>9040.946343</td>\n",
       "      <td>-14.561727</td>\n",
       "      <td>1.62154</td>\n",
       "      <td>-0.92473</td>\n",
       "      <td>-0.026171</td>\n",
       "      <td>2.139336</td>\n",
       "      <td>-0.225639</td>\n",
       "      <td>...</td>\n",
       "      <td>59.295758</td>\n",
       "      <td>-0.359202</td>\n",
       "      <td>-0.116299</td>\n",
       "      <td>-0.270116</td>\n",
       "      <td>-0.068668</td>\n",
       "      <td>2499.912342</td>\n",
       "      <td>2.661689</td>\n",
       "      <td>498.198833</td>\n",
       "      <td>3.159453</td>\n",
       "      <td>0.57489</td>\n",
       "    </tr>\n",
       "    <tr>\n",
       "      <th>1458</th>\n",
       "      <td>18.654929</td>\n",
       "      <td>-1.792221</td>\n",
       "      <td>67.943808</td>\n",
       "      <td>9715.946343</td>\n",
       "      <td>-14.561727</td>\n",
       "      <td>1.62154</td>\n",
       "      <td>-0.92473</td>\n",
       "      <td>-0.026171</td>\n",
       "      <td>2.139336</td>\n",
       "      <td>-0.225639</td>\n",
       "      <td>...</td>\n",
       "      <td>-0.704242</td>\n",
       "      <td>111.640798</td>\n",
       "      <td>-0.116299</td>\n",
       "      <td>-0.270116</td>\n",
       "      <td>-0.068668</td>\n",
       "      <td>-0.087658</td>\n",
       "      <td>1.661689</td>\n",
       "      <td>498.198833</td>\n",
       "      <td>3.159453</td>\n",
       "      <td>0.57489</td>\n",
       "    </tr>\n",
       "    <tr>\n",
       "      <th>1459</th>\n",
       "      <td>18.654929</td>\n",
       "      <td>-1.792221</td>\n",
       "      <td>74.943808</td>\n",
       "      <td>9935.946343</td>\n",
       "      <td>-14.561727</td>\n",
       "      <td>1.62154</td>\n",
       "      <td>-0.92473</td>\n",
       "      <td>-0.026171</td>\n",
       "      <td>2.139336</td>\n",
       "      <td>-0.225639</td>\n",
       "      <td>...</td>\n",
       "      <td>67.295758</td>\n",
       "      <td>-0.359202</td>\n",
       "      <td>-0.116299</td>\n",
       "      <td>-0.270116</td>\n",
       "      <td>-0.068668</td>\n",
       "      <td>-0.087658</td>\n",
       "      <td>3.661689</td>\n",
       "      <td>496.198833</td>\n",
       "      <td>3.159453</td>\n",
       "      <td>0.57489</td>\n",
       "    </tr>\n",
       "  </tbody>\n",
       "</table>\n",
       "<p>1460 rows × 75 columns</p>\n",
       "</div>"
      ],
      "text/plain": [
       "      MSSubClass  MSZoning  LotFrontage       LotArea     Street  LotShape  \\\n",
       "0      58.654929 -1.792221    64.943808   8448.946343 -14.561727   1.62154   \n",
       "1      18.654929 -1.792221    79.943808   9598.946343 -14.561727   1.62154   \n",
       "2      58.654929 -1.792221    67.943808  11248.946343 -14.561727  -1.37846   \n",
       "3      68.654929 -1.792221    59.943808   9548.946343 -14.561727  -1.37846   \n",
       "4      58.654929 -1.792221    83.943808  14258.946343 -14.561727  -1.37846   \n",
       "...          ...       ...          ...           ...        ...       ...   \n",
       "1455   58.654929 -1.792221    61.943808   7915.946343 -14.561727   1.62154   \n",
       "1456   18.654929 -1.792221    84.943808  13173.946343 -14.561727   1.62154   \n",
       "1457   68.654929 -1.792221    65.943808   9040.946343 -14.561727   1.62154   \n",
       "1458   18.654929 -1.792221    67.943808   9715.946343 -14.561727   1.62154   \n",
       "1459   18.654929 -1.792221    74.943808   9935.946343 -14.561727   1.62154   \n",
       "\n",
       "      LandContour  Utilities  LotConfig  LandSlope  ...  OpenPorchSF  \\\n",
       "0        -0.92473  -0.026171   2.139336  -0.225639  ...    60.295758   \n",
       "1        -0.92473  -0.026171   0.139336  -0.225639  ...    -0.704242   \n",
       "2        -0.92473  -0.026171   2.139336  -0.225639  ...    41.295758   \n",
       "3        -0.92473  -0.026171  -1.860664  -0.225639  ...    34.295758   \n",
       "4        -0.92473  -0.026171   0.139336  -0.225639  ...    83.295758   \n",
       "...           ...        ...        ...        ...  ...          ...   \n",
       "1455     -0.92473  -0.026171   2.139336  -0.225639  ...    39.295758   \n",
       "1456     -0.92473  -0.026171   2.139336  -0.225639  ...    -0.704242   \n",
       "1457     -0.92473  -0.026171   2.139336  -0.225639  ...    59.295758   \n",
       "1458     -0.92473  -0.026171   2.139336  -0.225639  ...    -0.704242   \n",
       "1459     -0.92473  -0.026171   2.139336  -0.225639  ...    67.295758   \n",
       "\n",
       "      EnclosedPorch  3SsnPorch  ScreenPorch  PoolArea      MiscVal    MoSold  \\\n",
       "0         -0.359202  -0.116299    -0.270116 -0.068668    -0.087658 -0.338311   \n",
       "1         -0.359202  -0.116299    -0.270116 -0.068668    -0.087658  2.661689   \n",
       "2         -0.359202  -0.116299    -0.270116 -0.068668    -0.087658  6.661689   \n",
       "3        271.640798  -0.116299    -0.270116 -0.068668    -0.087658 -0.338311   \n",
       "4         -0.359202  -0.116299    -0.270116 -0.068668    -0.087658  9.661689   \n",
       "...             ...        ...          ...       ...          ...       ...   \n",
       "1455      -0.359202  -0.116299    -0.270116 -0.068668    -0.087658  5.661689   \n",
       "1456      -0.359202  -0.116299    -0.270116 -0.068668    -0.087658 -0.338311   \n",
       "1457      -0.359202  -0.116299    -0.270116 -0.068668  2499.912342  2.661689   \n",
       "1458     111.640798  -0.116299    -0.270116 -0.068668    -0.087658  1.661689   \n",
       "1459      -0.359202  -0.116299    -0.270116 -0.068668    -0.087658  3.661689   \n",
       "\n",
       "          YrSold  SaleType  SaleCondition  \n",
       "0     496.198833  3.159453        0.57489  \n",
       "1     495.198833  3.159453        0.57489  \n",
       "2     496.198833  3.159453        0.57489  \n",
       "3     494.198833  3.159453       -3.42511  \n",
       "4     496.198833  3.159453        0.57489  \n",
       "...          ...       ...            ...  \n",
       "1455  495.198833  3.159453        0.57489  \n",
       "1456  498.198833  3.159453        0.57489  \n",
       "1457  498.198833  3.159453        0.57489  \n",
       "1458  498.198833  3.159453        0.57489  \n",
       "1459  496.198833  3.159453        0.57489  \n",
       "\n",
       "[1460 rows x 75 columns]"
      ]
     },
     "execution_count": 13,
     "metadata": {},
     "output_type": "execute_result"
    }
   ],
   "source": [
    "dataset_X-dataset_X.mean()/dataset_X.std()"
   ]
  },
  {
   "cell_type": "markdown",
   "metadata": {},
   "source": [
    "### Normalization with Sklearn"
   ]
  },
  {
   "cell_type": "markdown",
   "metadata": {},
   "source": [
    "### Normalization with TensorFlow "
   ]
  },
  {
   "cell_type": "markdown",
   "metadata": {},
   "source": [
    "Normalization can be added directy in our models so that we don't have to worry about it anymore !"
   ]
  },
  {
   "source": [
    "### A Visualisation tool"
   ],
   "cell_type": "markdown",
   "metadata": {}
  },
  {
   "cell_type": "code",
   "execution_count": 2,
   "metadata": {},
   "outputs": [],
   "source": [
    "def plot_loss(history):\n",
    "  plt.plot(history.history['loss'], label='loss')\n",
    "  plt.plot(history.history['val_loss'], label='val_loss')\n",
    "  plt.xlabel('Epoch')\n",
    "  plt.ylabel('Error J')\n",
    "  plt.legend()\n",
    "  plt.grid(True)"
   ]
  },
  {
   "cell_type": "markdown",
   "metadata": {},
   "source": [
    "## Linear Regression"
   ]
  },
  {
   "cell_type": "markdown",
   "metadata": {},
   "source": [
    "### A shallow network\n",
    "\n",
    "`keras` used to live as a separate entity from `tensorflow`. It is an interface built on top of `theano` and `tensorflow` to simplify some of their non-beginner-friendly methods. It was integrated inside `tensorflow` in 2019. \n",
    "\n",
    "We can use the `tf.keras.Sequential` from the `tf.keras` API to build our first shallow model."
   ]
  },
  {
   "cell_type": "markdown",
   "metadata": {},
   "source": [
    "## Deep Neural Networks"
   ]
  },
  {
   "cell_type": "markdown",
   "metadata": {},
   "source": [
    "Create a multi layered perceptron with `keras.Sequential`.\n",
    "Your model needs at least three hidden layers!"
   ]
  },
  {
   "cell_type": "markdown",
   "metadata": {},
   "source": [
    "## TF utilities"
   ]
  },
  {
   "cell_type": "markdown",
   "metadata": {},
   "source": [
    "### Saving models"
   ]
  },
  {
   "cell_type": "markdown",
   "metadata": {},
   "source": [
    "#### Saving checkpoints during training"
   ]
  },
  {
   "cell_type": "markdown",
   "metadata": {},
   "source": [
    "#### Loading Weigths"
   ]
  },
  {
   "cell_type": "markdown",
   "metadata": {},
   "source": [
    "### Keras Tuner"
   ]
  },
  {
   "cell_type": "code",
   "execution_count": 24,
   "metadata": {},
   "outputs": [],
   "source": [
    "!pip install -q -U keras-tuner\n",
    "!pip install tensorboard"
   ]
  },
  {
   "cell_type": "code",
   "execution_count": 25,
   "metadata": {},
   "outputs": [],
   "source": [
    "import keras_tuner as kt\n",
    "from tensorboard.plugins.hparams import api as hpapi"
   ]
  }
 ],
 "metadata": {
  "kernelspec": {
   "display_name": "Python 3",
   "language": "python",
   "name": "python3"
  },
  "language_info": {
   "codemirror_mode": {
    "name": "ipython",
    "version": 3
   },
   "file_extension": ".py",
   "mimetype": "text/x-python",
   "name": "python",
   "nbconvert_exporter": "python",
   "pygments_lexer": "ipython3",
   "version": "3.8.2"
  }
 },
 "nbformat": 4,
 "nbformat_minor": 2
}